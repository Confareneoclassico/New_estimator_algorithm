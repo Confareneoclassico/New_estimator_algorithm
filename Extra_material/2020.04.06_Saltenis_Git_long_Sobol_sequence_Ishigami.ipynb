{
 "cells": [
  {
   "cell_type": "markdown",
   "metadata": {},
   "source": [
    "## The Saltenis estimator\n",
    "\n",
    "One starts off by importing the relevant libraries and functions. The analytical values of the total indices are also imported so as to benchmark the values estimated."
   ]
  },
  {
   "cell_type": "code",
   "execution_count": null,
   "metadata": {
    "collapsed": false,
    "jupyter": {
     "outputs_hidden": false
    }
   },
   "outputs": [],
   "source": [
    "%matplotlib inline\n",
    "import datetime\n",
    "from Functions_full import Ishigami\n",
    "import numpy as np\n",
    "import pandas as pd\n",
    "import sobol_seq\n",
    "import matplotlib.pyplot as plt\n",
    "from pandas import ExcelWriter\n",
    "plt.style.use('ggplot')\n",
    "\n",
    "k = 3\n",
    "\n",
    "a2 = np.array([0,0.5,3,9,99,99])\n",
    "b3 = np.array([6.42,6.42,6.42,6.42,6.42,6.42])\n",
    "\n",
    "functions = [Ishigami]\n",
    "\n",
    "AE_df = pd.read_excel('AE_df.xlsx',index_col=0) #the analytical values\n",
    "\n",
    "def scrambler(q,s):\n",
    "    return q+s\n",
    "\n",
    "def Saltenis(a,b):\n",
    "    return 0.5*(a-b)**2"
   ]
  },
  {
   "cell_type": "markdown",
   "metadata": {},
   "source": [
    "The low-discrepancy sample matrix is then imported along with a scrambling rule so as to produce 50 independent repetions one can work with to produce a stable estimate."
   ]
  },
  {
   "cell_type": "code",
   "execution_count": null,
   "metadata": {},
   "outputs": [],
   "source": [
    "p = 14\n",
    "run = 50\n",
    "\n",
    "n = 2\n",
    "\n",
    "df_r_extra = pd.DataFrame(sobol_seq.i4_sobol_generate(6*6,1_000_000))\n",
    "\n",
    "df_index = pd.read_csv('2019.10.08_index.csv', index_col=0)"
   ]
  },
  {
   "cell_type": "markdown",
   "metadata": {},
   "source": [
    "The mean absolute errors are finally estimated across functions"
   ]
  },
  {
   "cell_type": "code",
   "execution_count": null,
   "metadata": {},
   "outputs": [],
   "source": [
    "n = [df_r_extra.iloc[:-1+2**p],df_r_extra.iloc[-1+2**p:-2+2*2**p],df_r_extra.iloc[-2+2*2**p:-3+3*2**p],\n",
    "     df_r_extra.iloc[-(-1+2**p):]]\n",
    "\n",
    "string_n = ['first','second','third','last']\n",
    "for in1,n1 in enumerate(n):\n",
    "    df_r = pd.concat([n1.T.reindex(df_index.iloc[r]).reset_index(drop=True).T for r in range(run)])\n",
    "    print(len(df_r))\n",
    "    AE = {f.__name__:[] for f in functions}\n",
    "    AE_f = {f.__name__:[] for f in functions}\n",
    "    MAE = {f.__name__:[] for f in functions}\n",
    "    MAE_var = {f.__name__:pd.DataFrame() for f in functions}\n",
    "\n",
    "    RMSE = {f.__name__:pd.Series() for f in functions}\n",
    "    SE = {f.__name__:[] for f in functions}\n",
    "    SE_f = {f.__name__:[] for f in functions}\n",
    "\n",
    "    for f in functions:\n",
    "        elementary_effect = []\n",
    "        ea = pd.DataFrame(f(-np.pi+2*np.pi*df_r.iloc[:,:k]))\n",
    "        ee_df =[]\n",
    "        for j in range(k):\n",
    "            rs = df_r.iloc[:,:2*k].copy()\n",
    "            rs[j] = rs[scrambler(j,k)] # generate the scrambled matrices\n",
    "            ee = pd.DataFrame(0.5*(f(-np.pi+2*np.pi*df_r.iloc[:,:k])-f(-np.pi+2*np.pi*rs.iloc[:,:k]))**2,columns=[j]) # compute the elementary effects\n",
    "            ee['r']= [r for r in range(run) for rdf in range(-1+2**p)]\n",
    "            ee_df.append(ee[j])\n",
    "\n",
    "            elementary_effect.append(ee.groupby('r')[j].expanding(1).mean()) # average out within individual repetitions\n",
    "\n",
    "        ea['r']=ee['r']\n",
    "        elementary_effect_df = pd.concat(elementary_effect,axis=1)\n",
    "        Var_df = ea.groupby('r')[0].expanding(1).var(ddof=0) # compute the variance for each repetition\n",
    "\n",
    "        AE[f.__name__] = np.abs(elementary_effect_df.div(Var_df,axis=0) - AE_df.loc[f.__name__]) # assess the absolute error for each factor\n",
    "        SE[f.__name__] = (elementary_effect_df.div(Var_df,axis=0) - AE_df.loc[f.__name__])**2        \n",
    "\n",
    "        AE[f.__name__].index = AE[f.__name__].index.droplevel(0)\n",
    "        SE[f.__name__].index = SE[f.__name__].index.droplevel(0)\n",
    "\n",
    "        AE_f[f.__name__] = AE[f.__name__].groupby(AE[f.__name__].index).mean()\n",
    "        SE_f[f.__name__] = np.sqrt(SE[f.__name__].groupby(SE[f.__name__].index).mean())\n",
    "\n",
    "        MAE[f.__name__] = AE_f[f.__name__].mean(axis=1) # compute the mean absolute error by averaging over the factors\n",
    "        RMSE[f.__name__] = SE_f[f.__name__].mean(axis=1)\n",
    "\n",
    "        MAE[f.__name__].index = (MAE[f.__name__].index+1)*(k+1) # set the index according to the total cost\n",
    "        RMSE[f.__name__].index = MAE[f.__name__].index\n",
    "    \n",
    "    writer = pd.ExcelWriter('Saltenis_Ishigami.xlsx', engine='xlsxwriter')\n",
    "    for mk in MAE.keys():\n",
    "        MAE[mk].to_excel(writer, sheet_name=mk)\n",
    "    writer.save()"
   ]
  },
  {
   "cell_type": "code",
   "execution_count": null,
   "metadata": {},
   "outputs": [],
   "source": []
  }
 ],
 "metadata": {
  "kernelspec": {
   "display_name": "Python 3",
   "language": "python",
   "name": "python3"
  },
  "language_info": {
   "codemirror_mode": {
    "name": "ipython",
    "version": 3
   },
   "file_extension": ".py",
   "mimetype": "text/x-python",
   "name": "python",
   "nbconvert_exporter": "python",
   "pygments_lexer": "ipython3",
   "version": "3.7.7"
  }
 },
 "nbformat": 4,
 "nbformat_minor": 4
}
