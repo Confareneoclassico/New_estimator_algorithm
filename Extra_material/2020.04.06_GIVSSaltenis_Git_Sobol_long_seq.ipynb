{
 "cells": [
  {
   "cell_type": "markdown",
   "metadata": {},
   "source": [
    "## Comparison of the Glen-and-Isaacs and the Saltenis estimators\n",
    "\n",
    "One starts off by importing the relevant libraries and functions. The analytical values of the total indices are also imported so as to benchmark the values estimated."
   ]
  },
  {
   "cell_type": "code",
   "execution_count": 8,
   "metadata": {
    "collapsed": false,
    "jupyter": {
     "outputs_hidden": false
    }
   },
   "outputs": [],
   "source": [
    "%matplotlib inline\n",
    "import datetime\n",
    "from Functions import A1, A2, B1, B2, B3, C1, C2\n",
    "import numpy as np\n",
    "import pandas as pd\n",
    "import sobol_seq\n",
    "import matplotlib.pyplot as plt\n",
    "from pandas import ExcelWriter\n",
    "plt.style.use('ggplot')"
   ]
  },
  {
   "cell_type": "markdown",
   "metadata": {},
   "source": [
    "The low-discrepancy sample matrix is then imported along with a scrambling rule so as to produce 50 independent repetions one can work with to produce a stable estimate."
   ]
  },
  {
   "cell_type": "code",
   "execution_count": 6,
   "metadata": {
    "collapsed": false,
    "jupyter": {
     "outputs_hidden": false
    }
   },
   "outputs": [],
   "source": [
    "k = 6\n",
    "\n",
    "a2 = np.array([0,0.5,3,9,99,99])\n",
    "b3 = np.array([6.42,6.42,6.42,6.42,6.42,6.42])\n",
    "\n",
    "functions = [A1, A2, B1, B2, B3, C1, C2]\n",
    "\n",
    "AE_df = pd.read_excel('AE_df.xlsx',index_col=0) #the analytical values\n",
    "\n",
    "def scrambler(q,s):\n",
    "    return q+s\n",
    "\n",
    "p = 14\n",
    "run = 50\n",
    "\n",
    "n = 2\n",
    "\n",
    "df_r_extra = pd.DataFrame(sobol_seq.i4_sobol_generate(6*6,1_000_000))\n",
    "\n",
    "df_index = pd.read_csv('2019.10.08_index.csv', index_col=0)"
   ]
  },
  {
   "cell_type": "markdown",
   "metadata": {},
   "source": [
    "The mean absolute errors are finally estimated across the test functions for the Glen&Isaacs estimator"
   ]
  },
  {
   "cell_type": "code",
   "execution_count": 11,
   "metadata": {},
   "outputs": [],
   "source": [
    "q = [df_r_extra.iloc[:-1+2**p],df_r_extra.iloc[-1+2**p:-2+2*2**p],df_r_extra.iloc[-2+2*2**p:-3+3*2**p]]\n",
    "\n",
    "string_n = ['first','second','third']\n",
    "for in1,n1 in enumerate(q):\n",
    "    df = pd.concat([n1.T.reindex(df_index.iloc[r]).reset_index(drop=True).T for r in range(run)])\n",
    "    run_samples = []\n",
    "\n",
    "    MAE_dic = {f.__name__:pd.DataFrame(columns=[r for r in range(run)]) for f in functions}\n",
    "    for r in range (run):\n",
    "        run_samples.append(df.iloc[int(r*(len(df)/run)):int((r+1)*(len(df)/run)),:2*k].reset_index(drop=True))\n",
    "\n",
    "        sample_Matrices = [run_samples[-1].iloc[:,m*int(len(run_samples[-1].T)/n):(m+1)*int(len(run_samples[-1].T)/n)].T.reset_index(drop=True).T\n",
    "                           for m in range(n)]\n",
    "\n",
    "        mixed_Matrices = []\n",
    "\n",
    "        co = [1,0]\n",
    "        for m in range(n):\n",
    "            for j in range(k):\n",
    "                mixed_Matrices.append(sample_Matrices[m].copy())\n",
    "                mixed_Matrices[-1][j]=sample_Matrices[co[m]][j]\n",
    "\n",
    "        gv_dic = {f.__name__:[] for f in functions}\n",
    "        gv1_dic = {f.__name__:pd.DataFrame(columns=[j for j in range(k)]) for f in functions}\n",
    "        gv2_dic = gv_dic.copy()\n",
    "        gv3_dic = gv1_dic.copy()\n",
    "        pj_dic = gv1_dic.copy()\n",
    "        cd_dic = gv1_dic.copy()\n",
    "        cdM_dic = gv1_dic.copy()\n",
    "        ca_dic = gv1_dic.copy()\n",
    "        caM_dic = gv1_dic.copy()\n",
    "        ST_dic = gv1_dic.copy()\n",
    "\n",
    "        for f in functions:\n",
    "            gv_dic[f.__name__] = ((f(sample_Matrices[0])-f(sample_Matrices[0]).expanding(1).mean()).T/\n",
    "                np.sqrt(f(sample_Matrices[0]).expanding(1).var(ddof=0))).T\n",
    "            gv2_dic[f.__name__] = ((f(sample_Matrices[1])-f(sample_Matrices[1]).expanding(1).mean()).T/\n",
    "                np.sqrt(f(sample_Matrices[1]).expanding(1).var(ddof=0))).T\n",
    "            gv1_dic[f.__name__] = pd.DataFrame([((f(mixed_Matrices[j])-f(mixed_Matrices[j]).expanding(1).mean()).T/\n",
    "                np.sqrt(f(mixed_Matrices[j]).expanding(1).var(ddof=0))).T for j in range(k)]).T\n",
    "            gv3_dic[f.__name__] = pd.DataFrame([((f(mixed_Matrices[j+k])-f(mixed_Matrices[j+k]).expanding(1).mean()).T/\n",
    "                np.sqrt(f(mixed_Matrices[j+k]).expanding(1).var(ddof=0))).T for j in range(k)]).T\n",
    "            pj_dic[f.__name__] = pd.DataFrame([0.5*(gv_dic[f.__name__]*gv2_dic[f.__name__]+\n",
    "                                           gv1_dic[f.__name__][j]*gv3_dic[f.__name__][j]).expanding(1).mean() for j in range(k)]).T\n",
    "            cd_dic[f.__name__]=pd.DataFrame([0.5*(gv_dic[f.__name__]*gv3_dic[f.__name__][j]+\n",
    "                                           gv2_dic[f.__name__]*gv1_dic[f.__name__][j]).expanding(1).mean() for j in range(k)]).T\n",
    "            cdM_dic[f.__name__]=pd.DataFrame([0.5*(gv_dic[f.__name__]*gv1_dic[f.__name__][j]+\n",
    "                                       gv2_dic[f.__name__]*gv3_dic[f.__name__][j]).expanding(1).mean() for j in range(k)]).T\n",
    "            ca_dic[f.__name__]=pd.DataFrame([(cd_dic[f.__name__][j]-pj_dic[f.__name__][j]*cdM_dic[f.__name__][j])/\\\n",
    "            (1-(pj_dic[f.__name__][j])**2) for j in range(k)]).T\n",
    "            caM_dic[f.__name__]=pd.DataFrame([(cdM_dic[f.__name__][j]-pj_dic[f.__name__][j]*cd_dic[f.__name__][j])/\\\n",
    "            (1-(pj_dic[f.__name__][j])**2) for j in range(k)]).T\n",
    "            ST_dic[f.__name__]=pd.DataFrame([1-cdM_dic[f.__name__][j]+pj_dic[f.__name__][j]*ca_dic[f.__name__][j]/\\\n",
    "            (1-ca_dic[f.__name__][j]*caM_dic[f.__name__][j]) for j in range(k)]).T\n",
    "\n",
    "            AE_r = np.abs(ST_dic[f.__name__] - AE_df.loc[f.__name__])\n",
    "            MAE_r = AE_r.mean(axis=1)\n",
    "            MAE_r.index=(MAE_r.index+1)*len(sample_Matrices)*(k+1)\n",
    "            MAE_dic[f.__name__][r]=MAE_r\n",
    "         \n",
    "    writer = pd.ExcelWriter('GI_long.xlsx', engine='xlsxwriter')\n",
    "    for mk in MAE_dic.keys():\n",
    "        MAE_dic[mk].mean(axis=1).to_excel(writer, sheet_name=mk)\n",
    "    writer.save()"
   ]
  },
  {
   "cell_type": "markdown",
   "metadata": {},
   "source": [
    "The trends for the two estimators are then compared across column lenght and test functions."
   ]
  },
  {
   "cell_type": "code",
   "execution_count": 33,
   "metadata": {},
   "outputs": [],
   "source": [
    "for n1 in string_n:    \n",
    "    ls = ['-',':','-.','--',(0, (3, 5, 1, 5, 1, 5))]\n",
    "    mk = ['s','o','v','+','*']\n",
    "    index_S = [(k+1)*(i+1) for i in range(-1+2**p)]\n",
    "    index_GI = [2*(k+1)*(i+1) for i in range(-1+2**p)]\n",
    "    for f in functions:\n",
    "        Saltenis = pd.read_excel('Saltenis_long.xlsx',sheet_name=f.__name__,index_col=0)\n",
    "        Saltenis.index = index_S\n",
    "                                                  \n",
    "        GI = pd.read_excel('GI_long.xlsx',sheet_name=f.__name__,index_col=0).reset_index(drop=True)\n",
    "        GI.index = index_GI\n",
    "\n",
    "        dataSets = [Saltenis.loc[[(k+1)*2**s for s in range(1,p)]].loc[(k+1)*2**2:],\n",
    "                    GI.loc[[2*(k+1)*2**s for s in range(1,p)]].loc[(k+1)*2**2:(k+1)*2**p]]\n",
    "\n",
    "        dSnames = ['Saltenis','GlenIsaacs']\n",
    "\n",
    "        dS_dic = dict(zip(dSnames,dataSets))\n",
    "\n",
    "        co = -1\n",
    "        for dk, dv in dS_dic.items():\n",
    "            co +=1\n",
    "            x_vals = dv.index\n",
    "            y1 = dv.values\n",
    "            plt.loglog(x_vals, y1, c='k', marker = mk[co],linestyle=ls[co],label = dk)\n",
    "        plt.xlabel('Cost')\n",
    "        plt.ylabel('MAE')\n",
    "        plt.title(f.__name__+'_'+n1)\n",
    "        plt.legend()\n",
    "        plt.show()"
   ]
  },
  {
   "cell_type": "code",
   "execution_count": null,
   "metadata": {},
   "outputs": [],
   "source": []
  }
 ],
 "metadata": {
  "kernelspec": {
   "display_name": "Python 3",
   "language": "python",
   "name": "python3"
  },
  "language_info": {
   "codemirror_mode": {
    "name": "ipython",
    "version": 3
   },
   "file_extension": ".py",
   "mimetype": "text/x-python",
   "name": "python",
   "nbconvert_exporter": "python",
   "pygments_lexer": "ipython3",
   "version": "3.7.7"
  }
 },
 "nbformat": 4,
 "nbformat_minor": 4
}
