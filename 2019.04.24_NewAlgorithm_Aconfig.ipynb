{
 "cells": [
  {
   "cell_type": "markdown",
   "metadata": {},
   "source": [
    "### Importing all relevant libraries"
   ]
  },
  {
   "cell_type": "code",
   "execution_count": null,
   "metadata": {},
   "outputs": [],
   "source": [
    "%matplotlib inline\n",
    "from Functions import A1, A2\n",
    "import numpy as np\n",
    "import pandas as pd\n",
    "import sobol_seq\n",
    "import matplotlib.pyplot as plt\n",
    "from pandas import ExcelWriter\n",
    "plt.style.use('ggplot')"
   ]
  },
  {
   "cell_type": "markdown",
   "metadata": {},
   "source": [
    "### Defining the functions"
   ]
  },
  {
   "cell_type": "code",
   "execution_count": null,
   "metadata": {},
   "outputs": [],
   "source": [
    "k = 6\n",
    "\n",
    "a2 = np.array([0,0.5,3,9,99,99])\n",
    "\n",
    "run = 50\n",
    "\n",
    "p = 13\n",
    "\n",
    "functions = [A1, A2]\n",
    "\n",
    "AE_df = pd.read_excel('AE_df.xlsx',index_col=0) #the analytical values\n",
    "\n",
    "df3 = pd.read_csv('2019.03.05_scrambled.csv').T.iloc[1:].T\n",
    "\n",
    "df4 = pd.DataFrame(sobol_seq.i4_sobol_generate(2*k, run*(2**p+5*2**(p-4))))\n",
    "\n",
    "df = pd.read_csv('2019.04.24.index.csv',index_col=0)\n",
    "\n",
    "df5 = df4.reindex(df.index).reset_index(drop=True)"
   ]
  },
  {
   "cell_type": "markdown",
   "metadata": {},
   "source": [
    "### Running the algorithm"
   ]
  },
  {
   "cell_type": "code",
   "execution_count": 208,
   "metadata": {},
   "outputs": [],
   "source": [
    "n = 2\n",
    "\n",
    "for pi in range(5,p+1):\n",
    "    run_samples = []\n",
    "\n",
    "    MAE_dic = {f.__name__:[] for f in functions}\n",
    "    MAE_l = []\n",
    "    \n",
    "    MAE_dic_i = {f.__name__:pd.DataFrame(columns=[r for r in range(run)]) for f in functions}\n",
    "    \n",
    "    for r in range (run):\n",
    "        run_samples.append(df5.iloc[r*(2**pi+5*2**(pi-4)):(r+1)*(2**pi+5*2**(pi-4))].reset_index(drop=True))\n",
    "        run_samples[-1] = run_samples[-1].T.iloc[df3.iloc[r]].reset_index(drop=True).T\n",
    "\n",
    "        sample_Matrices = [run_samples[-1].iloc[:,m*int(len(run_samples[-1].T)/n):(m+1)*int(len(run_samples[-1].T)/n)] \n",
    "                           for m in range(n)]\n",
    "\n",
    "        mixed_Matrices = []\n",
    "        for j in range(k):\n",
    "            mixed_Matrices.append(sample_Matrices[0].copy())\n",
    "            mixed_Matrices[-1][j]=sample_Matrices[-1][k+j]\n",
    "\n",
    "        for f in functions:\n",
    "            MAE_l = []\n",
    "            Est_cm1 = pd.DataFrame(index=[j for j in reversed(range(k))])\n",
    "\n",
    "            E_dic = {j:[] for j in range(k)}\n",
    "\n",
    "            E_list = []\n",
    "\n",
    "            c1 = [0]\n",
    "\n",
    "            for qa in range(2):\n",
    "\n",
    "                if qa == 0:\n",
    "                    c1.append(2**(pi-2))\n",
    "\n",
    "                    qample = sample_Matrices[0].iloc[sum(c1[:-1]):sum(c1)]\n",
    "\n",
    "                    for j in range(k):\n",
    "                        E_dic[j] = (0.5*(f(qample)-\n",
    "                                         f(mixed_Matrices[j].iloc[qample.index]))**2).values\n",
    "\n",
    "                    E_df = pd.DataFrame.from_dict(E_dic,orient='index').T\n",
    "\n",
    "                    E_list.append(E_df)\n",
    "\n",
    "                    Est_cm = np.std(E_df)\n",
    "\n",
    "                    Est_cm2 = Est_cm.sort_values(ascending=False).iloc[:-2]\n",
    "                else:\n",
    "                    tu = [(np.random.choice(sample_Matrices[0].iloc[sum(c1):].index,1,replace=False)[0],np.random.choice(Est_cm2.index,1)[0])\n",
    "               for it in range(2**(pi-4))]\n",
    "                    \n",
    "                    E_dic2 = {ei:[] for ei in Est_cm2.index}\n",
    "                    for ei in Est_cm2.index:\n",
    "                        E_dic2[ei]= 0.5*(f(sample_Matrices[0].iloc[sum(c1):])-f(mixed_Matrices[ei].iloc[sum(c1):]))**2\n",
    "                    \n",
    "                    E_df2 = pd.concat([E_df,pd.DataFrame.from_dict(E_dic2,orient='index').T]).sort_index()\n",
    "                    \n",
    "                    for t in tu:\n",
    "                        E_df2.at[t]=np.nan\n",
    "\n",
    "            me2 = E_df2.expanding(1).mean().reset_index(drop=True)\n",
    "\n",
    "            Var = f(sample_Matrices[0]).expanding(1).var(ddof=0)\n",
    "\n",
    "            T = (me2.T/Var).T\n",
    "\n",
    "            AE_v = abs(T-AE_df.loc[f.__name__])\n",
    "            MAE_r = AE_v.mean(axis=1)\n",
    "            \n",
    "            MAE_r.index=(E_df2.count(axis=1)+1).cumsum()\n",
    "            \n",
    "            MAE_dic[f.__name__].append(MAE_r)\n",
    "            \n",
    "            MAE_dic_i[f.__name__] = pd.concat(MAE_dic[f.__name__],axis=1).interpolate()\n",
    "\n",
    "    writer = pd.ExcelWriter(str(2**pi)+' New_Estimator_A_config.xlsx', engine='xlsxwriter')\n",
    "\n",
    "    for mk in MAE_dic_i.keys():\n",
    "        MAE_dic_i[mk].mean(axis=1).to_excel(writer, sheet_name=mk)\n",
    "\n",
    "    writer.save()"
   ]
  },
  {
   "cell_type": "code",
   "execution_count": null,
   "metadata": {},
   "outputs": [],
   "source": []
  }
 ],
 "metadata": {
  "kernelspec": {
   "display_name": "Python 3",
   "language": "python",
   "name": "python3"
  },
  "language_info": {
   "codemirror_mode": {
    "name": "ipython",
    "version": 3
   },
   "file_extension": ".py",
   "mimetype": "text/x-python",
   "name": "python",
   "nbconvert_exporter": "python",
   "pygments_lexer": "ipython3",
   "version": "3.7.1"
  }
 },
 "nbformat": 4,
 "nbformat_minor": 2
}
