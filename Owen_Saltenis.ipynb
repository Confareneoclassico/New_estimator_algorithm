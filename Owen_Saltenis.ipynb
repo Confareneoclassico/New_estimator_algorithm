{
 "cells": [
  {
   "cell_type": "markdown",
   "metadata": {},
   "source": [
    "## The Saltenis estimator\n",
    "\n",
    "One starts off by importing the relevant libraries and functions. The analytical values of the total indices are also imported so as to benchmark the values estimated."
   ]
  },
  {
   "cell_type": "code",
   "execution_count": 1,
   "metadata": {
    "collapsed": false,
    "jupyter": {
     "outputs_hidden": false
    }
   },
   "outputs": [],
   "source": [
    "%matplotlib inline\n",
    "import datetime\n",
    "from Functions import A1, A2, A3, B1, B2, B3, C1, C2\n",
    "import numpy as np\n",
    "import pandas as pd\n",
    "import sobol_seq\n",
    "import matplotlib.pyplot as plt\n",
    "from pandas import ExcelWriter\n",
    "plt.style.use('ggplot')\n",
    "\n",
    "k = 6\n",
    "\n",
    "a2 = np.array([0,0.5,3,9,99,99])\n",
    "b3 = np.array([6.42,6.42,6.42,6.42,6.42,6.42])\n",
    "\n",
    "functions = [A1, A2, A3, B1, B2, B3, C1, C2]\n",
    "\n",
    "AE_df = pd.read_excel('AE_df.xlsx',index_col=0) #the analytical values\n",
    "\n",
    "def scrambler(q,s):\n",
    "    return q+s\n",
    "\n",
    "def scrambler_left(q,s):\n",
    "    return q-s\n",
    "\n",
    "def Saltenis(a,b):\n",
    "    return 0.5*(a-b)**2"
   ]
  },
  {
   "cell_type": "markdown",
   "metadata": {},
   "source": [
    "The low-discrepancy sample matrix is then imported along with a scrambling rule so as to produce 50 independent repetions one can work with to produce a stable estimate."
   ]
  },
  {
   "cell_type": "code",
   "execution_count": 2,
   "metadata": {},
   "outputs": [],
   "source": [
    "p = 14\n",
    "run = 50\n",
    "\n",
    "n = 2\n",
    "\n",
    "df = pd.DataFrame(sobol_seq.i4_sobol_generate(6*k,-1+2**p))\n",
    "\n",
    "df_index = pd.read_csv('2019.10.08_index.csv', index_col=0)\n",
    "\n",
    "df_r = pd.concat([df.T.reindex(df_index.iloc[r]).reset_index(drop=True).T for r in range(run)])"
   ]
  },
  {
   "cell_type": "markdown",
   "metadata": {},
   "source": [
    "The mean absolute errors are finally estimated across functions"
   ]
  },
  {
   "cell_type": "code",
   "execution_count": 3,
   "metadata": {},
   "outputs": [
    {
     "name": "stderr",
     "output_type": "stream",
     "text": [
      "/opt/anaconda3/lib/python3.7/site-packages/ipykernel_launcher.py:6: DeprecationWarning: The default dtype for empty Series will be 'object' instead of 'float64' in a future version. Specify a dtype explicitly to silence this warning.\n",
      "  \n"
     ]
    }
   ],
   "source": [
    "AE = {f.__name__:[] for f in functions}\n",
    "AE_f = {f.__name__:[] for f in functions}\n",
    "MAE = {f.__name__:[] for f in functions}\n",
    "MAE_var = {f.__name__:pd.DataFrame() for f in functions}\n",
    "\n",
    "RMSE = {f.__name__:pd.Series() for f in functions}\n",
    "SE = {f.__name__:[] for f in functions}\n",
    "SE_f = {f.__name__:[] for f in functions}\n",
    "\n",
    "RE = {f.__name__:[] for f in functions}\n",
    "RE_f = {f.__name__:[] for f in functions}\n",
    "\n",
    "for f in functions:\n",
    "    elementary_effect = []\n",
    "    ee_df =[]\n",
    "    ea = pd.DataFrame(f(df_r.iloc[:,:k]))\n",
    "    for j in range(k):\n",
    "        B_a = df_r.iloc[:,:2*k].copy()\n",
    "        C_b = df_r.iloc[:,k:3*k].copy()\n",
    "        B_a[j+k] = B_a[scrambler_left(j+k,k)]\n",
    "        C_b[j+2*k] = C_b[scrambler_left(j+2*k,k)] # generate the scrambled matrices\n",
    "        ee = pd.DataFrame((f(df_r.iloc[:,k:2*k].T.reset_index(drop=True).T)-f(C_b.iloc[:,k:2*k].T.reset_index(drop=True).T))\\\n",
    "                          *(f(B_a.iloc[:,k:2*k].T.reset_index(drop=True).T)-f(df_r.iloc[:,:k].T.reset_index(drop=True).T)),\n",
    "                          columns=[j]) # compute the elementary effects\n",
    "        ee['r']= [r for r in range(run) for rdf in range(len(df))]\n",
    "        ee['r']= [r for r in range(run) for rdf in range(len(df))]\n",
    "        ea['r']=ee['r']\n",
    "        ee_df.append(ee[j])\n",
    "        \n",
    "        elementary_effect.append(ee.groupby('r')[j].expanding(1).mean()) # average out within individual repetitions\n",
    "    \n",
    "    elementary_effect_df = pd.concat(elementary_effect,axis=1)\n",
    "    ea['r']=ee['r']\n",
    "    Var_df = ea.groupby('r')[0].expanding(1).var(ddof=0) # compute the variance for each repetition\n",
    "    \n",
    "    AE[f.__name__] = np.abs(1-elementary_effect_df.div(Var_df,axis=0) - AE_df.loc[f.__name__]) # assess the absolute error for each factor\n",
    "    SE[f.__name__] = (elementary_effect_df.div(Var_df,axis=0) - AE_df.loc[f.__name__])**2    \n",
    "    RE[f.__name__] = AE[f.__name__].div(AE_df.loc[f.__name__])\n",
    "    \n",
    "    AE[f.__name__].index = AE[f.__name__].index.droplevel(0)\n",
    "    SE[f.__name__].index = AE[f.__name__].index\n",
    "    RE[f.__name__].index = AE[f.__name__].index    \n",
    "    \n",
    "    AE_f[f.__name__] = AE[f.__name__].groupby(AE[f.__name__].index).mean()\n",
    "    SE_f[f.__name__] = np.sqrt(SE[f.__name__].groupby(SE[f.__name__].index).mean())\n",
    "    RE_f[f.__name__] = RE[f.__name__].groupby(RE[f.__name__].index).mean()\n",
    "    \n",
    "    MAE[f.__name__] = AE_f[f.__name__].mean(axis=1) # compute the mean absolute error by averaging over the factors\n",
    "    RMSE[f.__name__] = SE_f[f.__name__].mean(axis=1)\n",
    "    \n",
    "    MAE[f.__name__].index = (MAE[f.__name__].index+1)*2*(k+1) # set the index according to the total cost\n",
    "    RMSE[f.__name__].index = MAE[f.__name__].index\n",
    "    RE_f[f.__name__].index = MAE[f.__name__].index\n",
    "    \n",
    "writer = pd.ExcelWriter('Owen_T.xlsx', engine='xlsxwriter')\n",
    "for mk in MAE.keys():\n",
    "    MAE[mk].to_excel(writer, sheet_name=mk)\n",
    "writer.save()\n",
    "\n",
    "writer = pd.ExcelWriter('Owen_T_no_mean.xlsx', engine='xlsxwriter')\n",
    "for mk in AE_f.keys():\n",
    "    AE_f[mk].to_excel(writer, sheet_name=mk)\n",
    "writer.save()\n",
    "\n",
    "writer = pd.ExcelWriter('Owen_T_rmse.xlsx',engine='xlsxwriter')\n",
    "for f in functions:\n",
    "    RMSE[f.__name__].to_excel(writer, sheet_name=f.__name__)\n",
    "writer.save()\n",
    "\n",
    "writer = pd.ExcelWriter('Owen_T_RE.xlsx')\n",
    "for f in functions:\n",
    "    RE_f[f.__name__].loc[[2*(k+1)*(-1+2**s) for s in range(2,p+1)]].loc[:(k+1)*2**(p+1)].round(3).to_excel(writer, sheet_name=f.__name__)\n",
    "writer.save()"
   ]
  },
  {
   "cell_type": "markdown",
   "metadata": {},
   "source": [
    "The data are finally exported to benchmark the performance of the other estimators."
   ]
  },
  {
   "cell_type": "code",
   "execution_count": 76,
   "metadata": {},
   "outputs": [],
   "source": [
    "ls = ['-',':','-.','--',(0, (3, 5, 1, 5, 1, 5))]\n",
    "mk = ['s','o','v','+','*']\n",
    "\n",
    "for f in functions:\n",
    "    Saltenis = pd.read_excel('Saltenis_asym.xlsx',sheet_name=f.__name__,index_col=0).loc[[(k+1)*(-1+2**s) for s in \n",
    "                                                                                        range(2,p+1)]].loc[:(k+1)*2**(p+1)]\n",
    "    Owen = pd.read_excel('2020.04.05_Owen_T.xlsx',sheet_name=f.__name__,index_col=0).loc[[2*(k+1)*(-1+2**s) for s in range(2,\n",
    "                                                                                        p+1)]].loc[:(k+1)*2**(p+1)]\n",
    "    dataSets = [Saltenis,Owen]\n",
    "\n",
    "    dSnames = ['Saltenis','Owen']\n",
    "    \n",
    "    dS_dic = dict(zip(dSnames,dataSets))\n",
    "    \n",
    "    co = -1\n",
    "    for dk, dv in dS_dic.items():\n",
    "        co +=1\n",
    "        x_vals = dv.index\n",
    "        y1 = dv.values\n",
    "        plt.loglog(x_vals, y1, c='k', marker = mk[co],linestyle=ls[co],label = dk)\n",
    "    plt.xlabel('Cost')\n",
    "    plt.ylabel('MAE')\n",
    "    plt.title(f.__name__)\n",
    "    plt.legend()\n",
    "    plt.savefig(str(datetime.datetime.now())[:10].replace('-','.')+'_'+f.__name__+'_Saltenis_Owen.png')\n",
    "    plt.close()"
   ]
  },
  {
   "cell_type": "code",
   "execution_count": 6,
   "metadata": {},
   "outputs": [],
   "source": [
    "writer = pd.ExcelWriter('Owen_T_RE.xlsx')\n",
    "for f in functions:\n",
    "    RE_f[f.__name__].loc[[2*(k+1)*(-1+2**s) for s in range(2,p+1)]].loc[:(k+1)*2**(p+1)].round(3).to_excel(writer, sheet_name=f.__name__)\n",
    "writer.save()"
   ]
  },
  {
   "cell_type": "code",
   "execution_count": null,
   "metadata": {},
   "outputs": [],
   "source": []
  }
 ],
 "metadata": {
  "kernelspec": {
   "display_name": "Python 3",
   "language": "python",
   "name": "python3"
  },
  "language_info": {
   "codemirror_mode": {
    "name": "ipython",
    "version": 3
   },
   "file_extension": ".py",
   "mimetype": "text/x-python",
   "name": "python",
   "nbconvert_exporter": "python",
   "pygments_lexer": "ipython3",
   "version": "3.7.7"
  }
 },
 "nbformat": 4,
 "nbformat_minor": 4
}
