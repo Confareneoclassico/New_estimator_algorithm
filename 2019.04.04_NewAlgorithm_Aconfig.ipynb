{
 "cells": [
  {
   "cell_type": "markdown",
   "metadata": {},
   "source": [
    "### Importing all relevant libraries"
   ]
  },
  {
   "cell_type": "code",
   "execution_count": null,
   "metadata": {},
   "outputs": [],
   "source": [
    "%matplotlib inline\n",
    "from Functions import A1, A2\n",
    "import numpy as np\n",
    "import pandas as pd\n",
    "import sobol_seq\n",
    "import matplotlib.pyplot as plt\n",
    "from pandas import ExcelWriter\n",
    "plt.style.use('ggplot')"
   ]
  },
  {
   "cell_type": "markdown",
   "metadata": {},
   "source": [
    "### Defining the functions"
   ]
  },
  {
   "cell_type": "code",
   "execution_count": null,
   "metadata": {},
   "outputs": [],
   "source": [
    "k = 6\n",
    "\n",
    "a2 = np.array([0,0.5,3,9,99,99])\n",
    "\n",
    "run = 50\n",
    "\n",
    "functions = [A1, A2]\n",
    "\n",
    "AE_df = pd.read_excel('AE_df.xlsx',index_col=0) #the analytical values\n",
    "\n",
    "df3 = pd.read_csv('2019.03.05_scrambled.csv').T.iloc[1:].T\n",
    "\n",
    "df4 = pd.DataFrame(sobol_seq.i4_sobol_generate(2*k, run*3*2**(13-1)))\n",
    "\n",
    "df = pd.read_csv('2019.04.05.csv',index_col=1)\n",
    "\n",
    "df5 = df4.reindex(df.index).reset_index(drop=True)"
   ]
  },
  {
   "cell_type": "markdown",
   "metadata": {},
   "source": [
    "### Running the algorithm"
   ]
  },
  {
   "cell_type": "code",
   "execution_count": null,
   "metadata": {},
   "outputs": [],
   "source": [
    "n = 2\n",
    "\n",
    "for p in range(5,14):\n",
    "    run_samples = []\n",
    "\n",
    "    MAE_dic = {f.__name__:pd.DataFrame(columns=[r for r in range(run)]) for f in functions}\n",
    "    \n",
    "    for r in range (run):\n",
    "        run_samples.append(df5.iloc[r*3*2**(p-1):(r+1)*3*2**(p-1)].reset_index(drop=True))\n",
    "        run_samples[-1] = run_samples[-1].T.iloc[df3.iloc[r]].reset_index(drop=True).T\n",
    "\n",
    "        sample_Matrices = [run_samples[-1].iloc[:,m*int(len(run_samples[-1].T)/n):(m+1)*int(len(run_samples[-1].T)/n)] \n",
    "                           for m in range(n)]\n",
    "\n",
    "        mixed_Matrices = []\n",
    "        for j in range(k):\n",
    "            mixed_Matrices.append(sample_Matrices[0].copy())\n",
    "            mixed_Matrices[-1][j]=sample_Matrices[-1][k+j]\n",
    "\n",
    "        for f in functions:\n",
    "            Est_cm1 = pd.DataFrame(index=[j for j in reversed(range(k))])\n",
    "\n",
    "            E_dic = {j:[] for j in range(k)}\n",
    "\n",
    "            E_list = []\n",
    "\n",
    "            c1 = [0]\n",
    "\n",
    "            for qa in range(2):\n",
    "\n",
    "                if qa == 0:\n",
    "                    c1.append(2**(p-2))\n",
    "\n",
    "                    qample = sample_Matrices[0].iloc[sum(c1[:-1]):sum(c1)]\n",
    "\n",
    "                    for j in range(k):\n",
    "                        E_dic[j] = (0.5*(f(qample)-\n",
    "                                         f(mixed_Matrices[j].iloc[qample.index]))**2).values\n",
    "\n",
    "                    E_df = pd.DataFrame.from_dict(E_dic,orient='index').T\n",
    "\n",
    "                    E_list.append(E_df)\n",
    "\n",
    "                    Est_cm = np.std(E_df)\n",
    "\n",
    "                    Est_cm2 = Est_cm.sort_values(ascending=False).iloc[:-2]\n",
    "\n",
    "                else:\n",
    "                    fValues = pd.DataFrame([np.random.choice(Est_cm2.index,k-len(Est_cm2),replace=False) for ir in range(2**p,\n",
    "                                len(sample_Matrices[0]))],index=[ir for ir in range(2**p,len(sample_Matrices[0]))])\n",
    "\n",
    "                    E_dic2 = {ei:[] for ei in Est_cm2.index}\n",
    "                    for ei in Est_cm2.index:\n",
    "                        E_dic2[ei]= 0.5*(f(sample_Matrices[0].iloc[sample_Matrices[0].iloc[sum(c1):2**p].index.\n",
    "                                    union(fValues.index[(fValues[0]==ei)|(fValues[1]==ei)])])-\n",
    "                                    f(mixed_Matrices[ei].iloc[mixed_Matrices[ei].iloc[sum(c1):2**p].index.\n",
    "                                    union(fValues.index[(fValues[0]==ei)|(fValues[1]==ei)])]))**2\n",
    "\n",
    "                    E_df2 = pd.concat([E_df,pd.DataFrame.from_dict(E_dic2,orient='index').T]).sort_index()  \n",
    "\n",
    "            me2 = E_df2.expanding(1).mean().reset_index(drop=True)\n",
    "\n",
    "            Var = f(sample_Matrices[0]).expanding(1).var(ddof=0)\n",
    "\n",
    "            T = (me2.T/Var).T\n",
    "\n",
    "            AE_v = abs(T-AE_df.loc[f.__name__])\n",
    "            MAE_r = AE_v.mean(axis=1)\n",
    "            \n",
    "            idx = [(k+1)*(c0+1) for c0 in range(c1[-1])]\n",
    "            idx.extend([idx[-1]+(len(Est_cm2)+1)*(c2+1) for c2 in range(2**p-c1[-1])])\n",
    "            idx.extend([idx[-1]+(len(fValues.iloc[0])+1)*(c3+1) for c3 in range(len(MAE_r)-2**p)])\n",
    "    \n",
    "            MAE_r.index=idx\n",
    "            \n",
    "            MAE_dic[f.__name__][r]=MAE_r\n",
    "\n",
    "    writer = pd.ExcelWriter(str(2**p)+' New_Estimator_A_config.xlsx', engine='xlsxwriter')\n",
    "\n",
    "    for mk in MAE_dic.keys():\n",
    "        MAE_dic[mk].mean(axis=1).to_excel(writer, sheet_name=mk)\n",
    "\n",
    "    writer.save()"
   ]
  },
  {
   "cell_type": "code",
   "execution_count": null,
   "metadata": {},
   "outputs": [],
   "source": []
  }
 ],
 "metadata": {
  "kernelspec": {
   "display_name": "Python 3",
   "language": "python",
   "name": "python3"
  },
  "language_info": {
   "codemirror_mode": {
    "name": "ipython",
    "version": 3
   },
   "file_extension": ".py",
   "mimetype": "text/x-python",
   "name": "python",
   "nbconvert_exporter": "python",
   "pygments_lexer": "ipython3",
   "version": "3.7.1"
  }
 },
 "nbformat": 4,
 "nbformat_minor": 2
}
