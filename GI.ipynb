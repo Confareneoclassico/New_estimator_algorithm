{
 "cells": [
  {
   "cell_type": "markdown",
   "metadata": {},
   "source": [
    "## Comparison of the Glen-and-Isaacs and the Saltenis estimator"
   ]
  },
  {
   "cell_type": "code",
   "execution_count": 1,
   "metadata": {
    "collapsed": false
   },
   "outputs": [],
   "source": [
    "%matplotlib inline\n",
    "import numpy as np\n",
    "import pandas as pd\n",
    "import sobol_seq\n",
    "import matplotlib.pyplot as plt\n",
    "from pandas import ExcelWriter\n",
    "plt.style.use('ggplot')"
   ]
  },
  {
   "cell_type": "markdown",
   "metadata": {},
   "source": [
    "### Defining the test functions"
   ]
  },
  {
   "cell_type": "code",
   "execution_count": 2,
   "metadata": {
    "collapsed": false
   },
   "outputs": [],
   "source": [
    "k = 6\n",
    "\n",
    "a2 = np.array([0,0.5,3,9,99,99])\n",
    "b3 = np.array([6.42,6.42,6.42,6.42,6.42,6.42])\n",
    "\n",
    "def A1(sm):\n",
    "    return pd.Series([np.prod(sm.iloc[:,:j+1],axis=1)*(-1)**(j+1) for j in range(k)]).sum()\n",
    "\n",
    "def A2(sm):\n",
    "    return pd.Series([(np.abs(4*sm[j]-2)+a2[j])/(1+a2[j]) for j in range(k)]).product()\n",
    "\n",
    "def A2b(sm,sn):\n",
    "    return pd.Series([(np.abs(4*(sm[j]+sn[j]-np.modf(sm[j]+sn[j])[1])-2)+a2[j])/(1+a2[j]) for j in range(k)]).product()\n",
    "\n",
    "def B1(sm):\n",
    "    return pd.Series([(k-sm[j])/(k-0.5) for j in range(k)]).product()\n",
    "        \n",
    "def B2(sm):\n",
    "    return ((1+1/k)**k)*pd.Series([sm[j]**(1/k) for j in range(k)]).product()\n",
    "        \n",
    "def B3(sm):\n",
    "    return pd.Series([(np.abs(4*sm[j]-2)+b3[j])/(1+b3[j]) for j in range(k)]).product()\n",
    "        \n",
    "def C1(sm):\n",
    "    return pd.Series([np.abs(4*sm[j]-2) for j in range(k)]).product()\n",
    "        \n",
    "def C2(sm):\n",
    "    return sm.product(axis=1)*2**k\n",
    "\n",
    "functions = [A1, A2, B1, B2, B3, C1, C2]"
   ]
  },
  {
   "cell_type": "markdown",
   "metadata": {},
   "source": [
    "### And the analytical values"
   ]
  },
  {
   "cell_type": "code",
   "execution_count": 4,
   "metadata": {
    "collapsed": false
   },
   "outputs": [],
   "source": [
    "def Ek2(k):\n",
    "    return((1/6)*(1-(1/3)**k)+(4/15)*((-1)**(k+1)*(1/2)**k+(1/3)**k))\n",
    "\n",
    "def V(k):\n",
    "    return((1/10)*(1/3)**k+(1/18)-(1/9)*(1/2)**(2*k)+(-1)**(k+1)*(2/45)*(1/2)**k)\n",
    "\n",
    "for j in range(0, k):\n",
    "    def Ej(j):\n",
    "        return((1/6)*(1-(1/3)**(j))+(4/15)*((-1)**(j+1)*(1/2)**(j)+(1/3)**(j)))\n",
    "              \n",
    "    def T1(j):\n",
    "        return((1/2)*((1/3)**(j-1)*(1-(1/3)**(k-j))))\n",
    "\n",
    "    def T2(j):\n",
    "        return((1/2)*((1/3)**j-(1/3)**k))\n",
    "    \n",
    "    def T3(j):\n",
    "        return((3/5)*(4*(1/3)**(k+1)+(-1)**(j+k+1)*(1/2)**(k-j-2)*(1/3)**(j+1)))\n",
    "    \n",
    "    def T4(j):\n",
    "        return((1/5)*((-1)**(j+2)*(1/3)*(1/2)**(j-2)-4*(1/3)**(j+1)))\n",
    "    \n",
    "    def T5(j):\n",
    "        return((1/5)*((-1)**(k+1)*(1/3)*(1/2)**(k-2)+(-1)**(k+j)*(1/3)**(j+1)*(1/2)**(k-j-2)))\n",
    "    \n",
    "def A1ST(j):\n",
    "    return((Ek2(k)-Ej(j)-(1/4)*(T1(j)-2*T2(j)+T3(j))-T4(j)-T5(j))/V(k))\n",
    "\n",
    "#ÁEA2\n",
    "\n",
    "def VjA2(j):\n",
    "    return((1/3)/(1+a2[j])**2)\n",
    "\n",
    "def VA2(j):\n",
    "    productA2 = []\n",
    "    for j in range(0, k):\n",
    "        productA2.append(1+VjA2(j))\n",
    "    return np.product(productA2)-1\n",
    "\n",
    "def VnA2(j):\n",
    "    return((VA2(j)+1)/(1+VjA2(j)))\n",
    "\n",
    "def VTjA2(j):\n",
    "    return VjA2(j)*(VnA2(j))\n",
    "\n",
    "def A2ST(j):\n",
    "    return(VTjA2(j)/VA2(j))\n",
    "\n",
    "#AEB1\n",
    "\n",
    "def q(j):\n",
    "    return(12*(k-0.5)**2)\n",
    "        \n",
    "def B1ST(j):\n",
    "    return((q(j)+1)**k/((q(j)+1)*((q(j)+1)**k-q(j)**k)))\n",
    "\n",
    "#AEB2\n",
    "\n",
    "def B2ST(j):\n",
    "    return((k+1)**(2*k-2)/(((k+1)**(2*k)-(k**2+2*k)**k)))\n",
    "\n",
    "#AEB3\n",
    "\n",
    "def VjB3(j):\n",
    "    return((1/3)/(1+b3[j])**2)\n",
    "\n",
    "def VB3(j):\n",
    "    productB3 = []\n",
    "    for j in range(0, k):\n",
    "        productB3.append(1+VjB3(j))\n",
    "    return np.product(productB3)-1\n",
    "\n",
    "def VnB3(j):\n",
    "    return((VB3(j)+1)/(1+VjB3(j)))\n",
    "\n",
    "def VTjB3(j):\n",
    "    return VjB3(j)*(VnB3(j))\n",
    "\n",
    "def B3ST(j):\n",
    "    return(VTjB3(j)/VB3(j))\n",
    "\n",
    "#AEC1\n",
    "\n",
    "def C1ST(j):\n",
    "    return 4**(k-1)/(4**k-3**k)\n",
    "\n",
    "#AEC2\n",
    "        \n",
    "def C2ST(j):\n",
    "    return 4**(k-1)/(4**k-3**k)\n",
    "\n",
    "def create_dict(key, values):\n",
    "    return dict(zip(key, values))\n",
    "\n",
    "analyticalValues = [A1ST,A2ST,B1ST,B2ST,B3ST,C1ST,C2ST]\n",
    "\n",
    "AE = []\n",
    "AE_l = []\n",
    "AE_names = []\n",
    "AE_namesd = []\n",
    "for iw,w in enumerate(analyticalValues):\n",
    "    AE_names.append(str(w.__name__)[:2])\n",
    "    for j in range (0,k):\n",
    "        AE.append(w(j))\n",
    "        AE_namesd.append('AE' + str(w.__name__) + str(j))\n",
    "AE_df = pd.DataFrame([AE[k*iw:k*(iw+1)] for iw in range(len(analyticalValues))],AE_names)"
   ]
  },
  {
   "cell_type": "markdown",
   "metadata": {},
   "source": [
    "### It is then time to define the sample and the scrambled matrices"
   ]
  },
  {
   "cell_type": "code",
   "execution_count": 5,
   "metadata": {
    "collapsed": false
   },
   "outputs": [],
   "source": [
    "p = 13\n",
    "run = 50\n",
    "\n",
    "n = 2\n",
    "\n",
    "df = pd.DataFrame(sobol_seq.i4_sobol_generate(2*k, run*2**p))"
   ]
  },
  {
   "cell_type": "markdown",
   "metadata": {},
   "source": [
    "### One can finally estimate the figures for the Sobol sensitivity indices through the Glen&Isaacs estimator"
   ]
  },
  {
   "cell_type": "code",
   "execution_count": 6,
   "metadata": {},
   "outputs": [],
   "source": [
    "run_samples = []\n",
    "\n",
    "MAE_dic = {f.__name__:pd.DataFrame(columns=[r for r in range(run)]) for f in functions}\n",
    "for r in range (run):\n",
    "    run_samples.append(df.iloc[int(r*(len(df)/run)):int((r+1)*(len(df)/run))].reset_index(drop=True))\n",
    "\n",
    "    sample_Matrices = [run_samples[-1].iloc[:,m*int(len(run_samples[-1].T)/n):(m+1)*int(len(run_samples[-1].T)/n)].T.reset_index(drop=True).T\n",
    "                       for m in range(n)]\n",
    "    \n",
    "    mixed_Matrices = []\n",
    "    \n",
    "    co = [1,0]\n",
    "    for m in range(n):\n",
    "        for j in range(k):\n",
    "            mixed_Matrices.append(sample_Matrices[m].copy())\n",
    "            mixed_Matrices[-1][j]=sample_Matrices[co[m]][j]\n",
    "            \n",
    "    gv_dic = {f.__name__:[] for f in functions}\n",
    "    gv1_dic = {f.__name__:pd.DataFrame(columns=[j for j in range(k)]) for f in functions}\n",
    "    gv2_dic = gv_dic.copy()\n",
    "    gv3_dic = gv1_dic.copy()\n",
    "    pj_dic = gv1_dic.copy()\n",
    "    cd_dic = gv1_dic.copy()\n",
    "    cdM_dic = gv1_dic.copy()\n",
    "    ca_dic = gv1_dic.copy()\n",
    "    caM_dic = gv1_dic.copy()\n",
    "    ST_dic = gv1_dic.copy()\n",
    "    \n",
    "    for f in functions:\n",
    "        gv_dic[f.__name__] = ((f(sample_Matrices[0])-f(sample_Matrices[0]).expanding(1).mean()).T/\n",
    "            np.sqrt(f(sample_Matrices[0]).expanding(1).var(ddof=0))).T\n",
    "        gv2_dic[f.__name__] = ((f(sample_Matrices[1])-f(sample_Matrices[1]).expanding(1).mean()).T/\n",
    "            np.sqrt(f(sample_Matrices[1]).expanding(1).var(ddof=0))).T\n",
    "        gv1_dic[f.__name__] = pd.DataFrame([((f(mixed_Matrices[j])-f(mixed_Matrices[j]).expanding(1).mean()).T/\n",
    "            np.sqrt(f(mixed_Matrices[j]).expanding(1).var(ddof=0))).T for j in range(k)]).T\n",
    "        gv3_dic[f.__name__] = pd.DataFrame([((f(mixed_Matrices[j+k])-f(mixed_Matrices[j+k]).expanding(1).mean()).T/\n",
    "            np.sqrt(f(mixed_Matrices[j+k]).expanding(1).var(ddof=0))).T for j in range(k)]).T\n",
    "        pj_dic[f.__name__] = pd.DataFrame([0.5*(gv_dic[f.__name__]*gv2_dic[f.__name__]+\n",
    "                                       gv1_dic[f.__name__][j]*gv3_dic[f.__name__][j]).expanding(1).mean() for j in range(k)]).T\n",
    "        cd_dic[f.__name__]=pd.DataFrame([0.5*(gv_dic[f.__name__]*gv3_dic[f.__name__][j]+\n",
    "                                       gv2_dic[f.__name__]*gv1_dic[f.__name__][j]).expanding(1).mean() for j in range(k)]).T\n",
    "        cdM_dic[f.__name__]=pd.DataFrame([0.5*(gv_dic[f.__name__]*gv1_dic[f.__name__][j]+\n",
    "                                   gv2_dic[f.__name__]*gv3_dic[f.__name__][j]).expanding(1).mean() for j in range(k)]).T\n",
    "        ca_dic[f.__name__]=pd.DataFrame([(cd_dic[f.__name__][j]-pj_dic[f.__name__][j]*cdM_dic[f.__name__][j])/\\\n",
    "        (1-(pj_dic[f.__name__][j])**2) for j in range(k)]).T\n",
    "        caM_dic[f.__name__]=pd.DataFrame([(cdM_dic[f.__name__][j]-pj_dic[f.__name__][j]*cd_dic[f.__name__][j])/\\\n",
    "        (1-(pj_dic[f.__name__][j])**2) for j in range(k)]).T\n",
    "        ST_dic[f.__name__]=pd.DataFrame([1-cdM_dic[f.__name__][j]+pj_dic[f.__name__][j]*ca_dic[f.__name__][j]/\\\n",
    "        (1-ca_dic[f.__name__][j]*caM_dic[f.__name__][j]) for j in range(k)]).T\n",
    "        \n",
    "        AE_r = np.abs(ST_dic[f.__name__] - AE_df.loc[f.__name__])\n",
    "        MAE_r = AE_r.mean(axis=1)\n",
    "        MAE_r.index=(MAE_r.index+1)*len(sample_Matrices)*(k+1)\n",
    "        MAE_dic[f.__name__][r]=MAE_r"
   ]
  },
  {
   "cell_type": "code",
   "execution_count": 7,
   "metadata": {},
   "outputs": [],
   "source": [
    "writer = pd.ExcelWriter('G&I.xlsx', engine='xlsxwriter')\n",
    "\n",
    "for mk in MAE_dic.keys():\n",
    "    MAE_dic[mk].mean(axis=1).to_excel(writer, sheet_name=mk)\n",
    "    \n",
    "writer.save()"
   ]
  }
 ],
 "metadata": {
  "kernelspec": {
   "display_name": "Python 3",
   "language": "python",
   "name": "python3"
  },
  "language_info": {
   "codemirror_mode": {
    "name": "ipython",
    "version": 3
   },
   "file_extension": ".py",
   "mimetype": "text/x-python",
   "name": "python",
   "nbconvert_exporter": "python",
   "pygments_lexer": "ipython3",
   "version": "3.7.1"
  }
 },
 "nbformat": 4,
 "nbformat_minor": 2
}
