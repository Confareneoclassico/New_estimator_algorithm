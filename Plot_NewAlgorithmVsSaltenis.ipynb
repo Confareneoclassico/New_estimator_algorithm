{
 "cells": [
  {
   "cell_type": "markdown",
   "metadata": {},
   "source": [
    "### Import all the relevant libraries"
   ]
  },
  {
   "cell_type": "code",
   "execution_count": null,
   "metadata": {},
   "outputs": [],
   "source": [
    "%matplotlib inline\n",
    "\n",
    "import numpy as np\n",
    "import pandas as pd\n",
    "import matplotlib.pyplot as plt\n",
    "import math\n",
    "plt.style.use('ggplot')"
   ]
  },
  {
   "cell_type": "code",
   "execution_count": null,
   "metadata": {},
   "outputs": [],
   "source": [
    "ls = ['-',':','-.']\n",
    "mk = ['s','o','v']\n",
    "\n",
    "functions = ['A1','A2']\n",
    "\n",
    "rng = [str(2**p) for p in range(5,14)]"
   ]
  },
  {
   "cell_type": "code",
   "execution_count": null,
   "metadata": {},
   "outputs": [],
   "source": [
    "for rn in rng:\n",
    "    for f in functions:\n",
    "        Saltenis = pd.read_excel(rn+' Saltenis_New_Estimator_comparison.xlsx',sheet_name=f,index_col=0).iloc[:int(rn)]\n",
    "        New_Estimator_A = pd.read_excel(rn+' New_Estimator_A_config.xlsx',sheet_name=f,index_col=0)\n",
    "        New_Estimator_B = pd.read_excel(rn+' New_Estimator_B_config.xlsx',sheet_name=f,index_col=0)\n",
    "\n",
    "        dataSets = [Saltenis,New_Estimator_A,New_Estimator_B]\n",
    "\n",
    "        dSnames = ['Saltenis','New_Estimator_more_stars','New_Estimator_multiple_rays']\n",
    "\n",
    "        dS_dic = dict(zip(dSnames,dataSets))\n",
    "\n",
    "        co = -1\n",
    "        for dk, dv in dS_dic.items():\n",
    "            co +=1\n",
    "            x_vals = dv.index\n",
    "            y1 = dv.values\n",
    "            plt.semilogy(x_vals, y1, c='k', linestyle=ls[co],label = dk)\n",
    "            plt.ylim(top=0.2)\n",
    "        plt.xlabel('Cost')\n",
    "        plt.ylabel('MAE')\n",
    "        plt.title(f+', sample size '+rn)\n",
    "        plt.legend()\n",
    "        plt.show()"
   ]
  },
  {
   "cell_type": "code",
   "execution_count": null,
   "metadata": {},
   "outputs": [],
   "source": []
  }
 ],
 "metadata": {
  "kernelspec": {
   "display_name": "Python 3",
   "language": "python",
   "name": "python3"
  },
  "language_info": {
   "codemirror_mode": {
    "name": "ipython",
    "version": 3
   },
   "file_extension": ".py",
   "mimetype": "text/x-python",
   "name": "python",
   "nbconvert_exporter": "python",
   "pygments_lexer": "ipython3",
   "version": "3.7.1"
  }
 },
 "nbformat": 4,
 "nbformat_minor": 2
}
