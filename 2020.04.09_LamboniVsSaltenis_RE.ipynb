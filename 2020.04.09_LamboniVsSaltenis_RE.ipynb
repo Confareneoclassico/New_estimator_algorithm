{
 "cells": [
  {
   "cell_type": "markdown",
   "metadata": {},
   "source": [
    "## Comparison of the Lamboni and the Saltenis estimators\n",
    "\n",
    "One starts off by importing the relevant libraries and functions. The analytical values of the total indices are also imported so as to benchmark the values estimated."
   ]
  },
  {
   "cell_type": "code",
   "execution_count": 1,
   "metadata": {
    "collapsed": false,
    "jupyter": {
     "outputs_hidden": false
    }
   },
   "outputs": [],
   "source": [
    "%matplotlib inline\n",
    "from Functions import A1, A2, B1, B2, B3, C1, C2\n",
    "import numpy as np\n",
    "import pandas as pd\n",
    "import sobol_seq\n",
    "import matplotlib.pyplot as plt\n",
    "from pandas import ExcelWriter\n",
    "plt.style.use('ggplot')"
   ]
  },
  {
   "cell_type": "markdown",
   "metadata": {},
   "source": [
    "The low-discrepancy sample matrix is then imported along with a scrambling rule so as to produce 50 independent repetions one can work with to produce a stable estimate."
   ]
  },
  {
   "cell_type": "code",
   "execution_count": 2,
   "metadata": {
    "collapsed": false,
    "jupyter": {
     "outputs_hidden": false
    }
   },
   "outputs": [],
   "source": [
    "k = 6\n",
    "\n",
    "a2 = np.array([0,0.5,3,9,99,99])\n",
    "b3 = np.array([6.42,6.42,6.42,6.42,6.42,6.42])\n",
    "\n",
    "functions = [A1, A2, B1, B2, B3, C1, C2]\n",
    "\n",
    "AE_df = pd.read_excel('AE_df.xlsx',index_col=0) #the analytical values\n",
    "\n",
    "p = 13\n",
    "run = 50\n",
    "\n",
    "n = [2,3,4,6]\n",
    "\n",
    "df_r = pd.DataFrame(sobol_seq.i4_sobol_generate(6*k, -1+2**p))\n",
    "\n",
    "df_index = pd.read_csv('2019.10.08_index.csv', index_col=0)\n",
    "\n",
    "df = pd.concat([df_r.T.reindex(df_index.iloc[r]).reset_index(drop=True).T for r in range(run)])"
   ]
  },
  {
   "cell_type": "markdown",
   "metadata": {},
   "source": [
    "The mean absolute errors are finally estimated across the test functions for the Lamboni estimator"
   ]
  },
  {
   "cell_type": "code",
   "execution_count": 5,
   "metadata": {
    "collapsed": false,
    "jupyter": {
     "outputs_hidden": false
    }
   },
   "outputs": [
    {
     "name": "stderr",
     "output_type": "stream",
     "text": [
      "/opt/anaconda3/lib/python3.7/site-packages/ipykernel_launcher.py:5: DeprecationWarning: The default dtype for empty Series will be 'object' instead of 'float64' in a future version. Specify a dtype explicitly to silence this warning.\n",
      "  \"\"\"\n"
     ]
    }
   ],
   "source": [
    "for in1,n1 in enumerate(n):\n",
    "    run_samples = []\n",
    "\n",
    "    MAE_dic = {f.__name__:pd.DataFrame(columns=[r for r in range(run)]) for f in functions}\n",
    "    RMSE_dic = {f.__name__:pd.Series() for f in functions}\n",
    "    SE_dic = {f.__name__:[] for f in functions}\n",
    "    RE_l = {f.__name__:[] for f in functions}\n",
    "    RE_dic = {f.__name__:[] for f in functions}\n",
    "    for r in range (run):\n",
    "        run_samples.append(df.iloc[int(r*(len(df)/run)):int((r+1)*(len(df)/run))].reset_index(drop=True))\n",
    "\n",
    "        sample_Matrices = [run_samples[-1].iloc[:,m*k:(m+1)*k].T.reset_index(drop=True).T for m in range(n1)]\n",
    "\n",
    "        mixed_Matrices = []\n",
    "        elementary_effects = []\n",
    "        f_elementary = []\n",
    "        for m in range(n1):\n",
    "            elementary_effects.append({f.__name__:pd.DataFrame(columns=[j for j in range(k)]) for f in functions})\n",
    "            for j in range(k):\n",
    "                for q in range(n1-1):\n",
    "                    mixed_Matrices.append(sample_Matrices[m].copy())\n",
    "                    mixed_Matrices[-1][j]=sample_Matrices[np.roll(np.arange(n1),(n1-1)*m)[q+1]][j]\n",
    "        \n",
    "        for f in functions:\n",
    "            for j in range(k):\n",
    "                ef = []\n",
    "                for ie,e in enumerate(elementary_effects):\n",
    "                    el = []\n",
    "                    for q in range(n1-1):\n",
    "                        el.append(f(mixed_Matrices[(n1-1)*ie*k+j*(n1-1)+q])/(n1-1))\n",
    "                    ef.append(((n1-1)/n1**2)*(f(sample_Matrices[ie])-pd.concat(el,axis=1).sum(axis=1))**2)\n",
    "                e[f.__name__][j] = pd.concat(ef,axis=1).sum(axis=1)\n",
    "\n",
    "            C_T = e[f.__name__].expanding(1).mean()\n",
    "                \n",
    "            Var = f(pd.concat(sample_Matrices).sort_index()).expanding(1).var(ddof=0)\n",
    "            T = (C_T.T/Var[~Var.index.duplicated(keep='last')]).T\n",
    "            AE_r = np.abs(T - AE_df.loc[f.__name__])\n",
    "            SE_r = (T - AE_df.loc[f.__name__])**2\n",
    "            RE_r = AE_r.div(AE_df.loc[f.__name__])\n",
    "            RE_l[f.__name__].append(RE_r)\n",
    "            MAE_r = AE_r.mean(axis=1)\n",
    "            MAE_r.index=(MAE_r.index+1)*len(sample_Matrices)*(1+k*(len(sample_Matrices)-1))\n",
    "            SE_r.index = MAE_r.index\n",
    "            MAE_dic[f.__name__][r]=MAE_r\n",
    "            SE_dic[f.__name__].append(SE_r)\n",
    "\n",
    "    for f in functions:\n",
    "        RMSE_dic[f.__name__]= np.sqrt(pd.concat(SE_dic[f.__name__],axis=1).groupby(pd.concat(SE_dic[f.__name__],\n",
    "                                                    axis=1).columns,1).mean()).mean(axis=1)\n",
    "        RE_dic[f.__name__]= pd.concat(RE_l[f.__name__]).groupby(pd.concat(RE_l[f.__name__]).index).mean()\n",
    "        RE_dic[f.__name__].index = MAE_dic[f.__name__].index\n",
    "        \n",
    "    writer = pd.ExcelWriter(str(n1)+'Lamboni_.xlsx', engine='xlsxwriter')\n",
    "    for mk in MAE_dic.keys():\n",
    "        MAE_dic[mk].to_excel(writer, sheet_name=mk)\n",
    "    writer.save()\n",
    "    \n",
    "    writer = pd.ExcelWriter(str(n1)+'Lamboni_RMSE.xlsx', engine='xlsxwriter')\n",
    "    for f in functions:\n",
    "        RMSE_dic[f.__name__].to_excel(writer, sheet_name=f.__name__)\n",
    "    writer.save()\n",
    "    \n",
    "    writer = pd.ExcelWriter(str(n1)+'Lamboni_RE.xlsx', engine='xlsxwriter')\n",
    "    for f in functions:\n",
    "        RE_dic[f.__name__].loc[[(n1*(1+k*(n1-1)))*(-1+2**s) for s in range(2,p+1)]].loc[:(k+1)*2**(p+1)].round(3).to_excel(writer, \n",
    "                                                                                    sheet_name=f.__name__)\n",
    "    writer.save()"
   ]
  },
  {
   "cell_type": "markdown",
   "metadata": {},
   "source": [
    "The trends for the different estimators are then compared across column lenght and test functions."
   ]
  },
  {
   "cell_type": "code",
   "execution_count": null,
   "metadata": {},
   "outputs": [],
   "source": [
    "ls = ['-',':','-.','--',(0, (3, 5, 1, 5, 1, 5))]\n",
    "mk = ['s','o','v','+','*']\n",
    "\n",
    "for f in functions:\n",
    "    Saltenis = pd.read_excel('Saltenis_asym.xlsx',sheet_name=f.__name__,index_col=0).loc[[(k+1)*(-1+2**s) for s in \n",
    "                                                                                        range(2,p+1)]].loc[:(k+1)*2**(p+1)]\n",
    "    Saltenis_sym = pd.read_excel('2Lamboni.xlsx',sheet_name=f.__name__,index_col=0).loc[[2*(k+1)*(-1+2**s) for s in range(2,\n",
    "                                                                                        p+1)]].loc[:(k+1)*2**(p+1)]\n",
    "    Matrices3 = pd.read_excel('3Lamboni.xlsx',sheet_name=f.__name__,index_col=0).loc[[(3*(1+k*(3-1)))*(-1+2**s) for s in range(2,\n",
    "                                                                                        p+1)]].loc[:(k+1)*2**(p+1)]\n",
    "    Matrices4 = pd.read_excel('4Lamboni.xlsx',sheet_name=f.__name__,index_col=0).loc[[(4*(1+k*(4-1)))*(-1+2**s) for s in range(2,\n",
    "                                                                                        p+1)]].loc[:(k+1)*2**(p+1)]\n",
    "    Matrices6 = pd.read_excel('6Lamboni.xlsx',sheet_name=f.__name__,index_col=0).loc[[(6*(1+k*(6-1)))*(-1+2**s) for s in range(2,\n",
    "                                                                                        p+1)]].loc[:(k+1)*2**(p+1)]\n",
    "    \n",
    "    dataSets = [Saltenis,Saltenis_sym,Matrices3,Matrices4,Matrices6]\n",
    "\n",
    "    dSnames = ['Saltenis','Saltenis_sym','Lamboni_3_matrices','Lamboni_4_matrices','Lamboni_6_matrices']\n",
    "    \n",
    "    dS_dic = dict(zip(dSnames,dataSets))\n",
    "    \n",
    "    co = -1\n",
    "    for dk, dv in dS_dic.items():\n",
    "        co +=1\n",
    "        x_vals = dv.index\n",
    "        y1 = dv.values\n",
    "        plt.loglog(x_vals, y1, c='k', marker = mk[co],linestyle=ls[co],label = dk)\n",
    "    plt.xlabel('Cost')\n",
    "    plt.ylabel('MAE')\n",
    "    plt.title(f.__name__)\n",
    "    plt.legend()\n",
    "    plt.show()"
   ]
  }
 ],
 "metadata": {
  "kernelspec": {
   "display_name": "Python 3",
   "language": "python",
   "name": "python3"
  },
  "language_info": {
   "codemirror_mode": {
    "name": "ipython",
    "version": 3
   },
   "file_extension": ".py",
   "mimetype": "text/x-python",
   "name": "python",
   "nbconvert_exporter": "python",
   "pygments_lexer": "ipython3",
   "version": "3.7.7"
  }
 },
 "nbformat": 4,
 "nbformat_minor": 4
}
