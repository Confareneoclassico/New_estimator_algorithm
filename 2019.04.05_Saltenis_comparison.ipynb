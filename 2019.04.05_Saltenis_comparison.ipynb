{
 "cells": [
  {
   "cell_type": "markdown",
   "metadata": {},
   "source": [
    "### Importing all relevant libraries"
   ]
  },
  {
   "cell_type": "code",
   "execution_count": 1,
   "metadata": {},
   "outputs": [],
   "source": [
    "%matplotlib inline\n",
    "from Functions import A1, A2\n",
    "import numpy as np\n",
    "import pandas as pd\n",
    "import sobol_seq\n",
    "import matplotlib.pyplot as plt\n",
    "from pandas import ExcelWriter\n",
    "plt.style.use('ggplot')"
   ]
  },
  {
   "cell_type": "markdown",
   "metadata": {},
   "source": [
    "### Defining the functions"
   ]
  },
  {
   "cell_type": "code",
   "execution_count": 3,
   "metadata": {},
   "outputs": [],
   "source": [
    "k = 6\n",
    "\n",
    "a2 = np.array([0,0.5,3,9,99,99])\n",
    "\n",
    "run = 50\n",
    "\n",
    "functions = [A1, A2]\n",
    "\n",
    "AE_df = pd.read_excel('AE_df.xlsx',index_col=0) #the analytical values\n",
    "\n",
    "df3 = pd.read_csv('2019.03.05_scrambled.csv').T.iloc[1:].T\n",
    "\n",
    "df4 = pd.DataFrame(sobol_seq.i4_sobol_generate(2*k, run*3*2**(13-1)))\n",
    "\n",
    "df = pd.read_csv('2019.04.05.csv',index_col=1)\n",
    "\n",
    "df5 = df4.reindex(df.index).reset_index(drop=True)"
   ]
  },
  {
   "cell_type": "markdown",
   "metadata": {},
   "source": [
    "### Run the algorithm"
   ]
  },
  {
   "cell_type": "code",
   "execution_count": 3,
   "metadata": {},
   "outputs": [],
   "source": [
    "n = 2\n",
    "\n",
    "for p in range(5,14):\n",
    "    run_samples = []\n",
    "\n",
    "    MAE_dic = {f.__name__:pd.DataFrame(columns=[r for r in range(run)]) for f in functions}\n",
    "    for r in range (run):\n",
    "        run_samples.append(df5.iloc[r*3*2**(p-1):(r+1)*3*2**(p-1)].reset_index(drop=True))\n",
    "        run_samples[-1] = run_samples[-1].T.iloc[df3.iloc[r]].reset_index(drop=True).T\n",
    "\n",
    "        sample_Matrices = [run_samples[-1].iloc[:,m*int(len(run_samples[-1].T)/n):(m+1)*int(len(run_samples[-1].T)/n)] \n",
    "                           for m in range(n)]\n",
    "\n",
    "        mixed_Matrices = []\n",
    "        for j in range(k):\n",
    "            mixed_Matrices.append(sample_Matrices[0].copy())\n",
    "            mixed_Matrices[-1][j]=sample_Matrices[-1][k+j]\n",
    "\n",
    "        elementary_effects_dic = {f.__name__:pd.DataFrame(columns=[j for j in range(k)]) for f in functions}\n",
    "        for f in functions:\n",
    "            for j in range(k):\n",
    "                elementary_effects_dic[f.__name__][j] = 0.5*(f(sample_Matrices[0].iloc[:2**p])-f(mixed_Matrices[j].iloc[:2**p]))**2\n",
    "\n",
    "            C_T = elementary_effects_dic[f.__name__].expanding(1).mean()\n",
    "            Var = f(sample_Matrices[0]).expanding(1).var(ddof=0)\n",
    "            T = (C_T.T/Var).T\n",
    "            AE_r = np.abs(T - AE_df.loc[f.__name__])\n",
    "            MAE_r = AE_r.mean(axis=1)\n",
    "            MAE_r.index=(MAE_r.index+1)*(k+1)\n",
    "            MAE_dic[f.__name__][r]=MAE_r\n",
    "\n",
    "            \n",
    "    writer = pd.ExcelWriter(str(2**p)+' Saltenis_New_Estimator_comparison.xlsx', engine='xlsxwriter')\n",
    "\n",
    "    for mk in MAE_dic.keys():\n",
    "        MAE_dic[mk].mean(axis=1).to_excel(writer, sheet_name=mk)\n",
    "    \n",
    "    writer.save()"
   ]
  }
 ],
 "metadata": {
  "kernelspec": {
   "display_name": "Python 3",
   "language": "python",
   "name": "python3"
  },
  "language_info": {
   "codemirror_mode": {
    "name": "ipython",
    "version": 3
   },
   "file_extension": ".py",
   "mimetype": "text/x-python",
   "name": "python",
   "nbconvert_exporter": "python",
   "pygments_lexer": "ipython3",
   "version": "3.7.1"
  }
 },
 "nbformat": 4,
 "nbformat_minor": 2
}
