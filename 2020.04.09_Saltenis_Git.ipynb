{
 "cells": [
  {
   "cell_type": "code",
   "execution_count": null,
   "metadata": {},
   "outputs": [],
   "source": [
    "## The Saltenis estimator\n",
    "\n",
    "One starts off by importing the relevant libraries and functions. The analytical values of the total indices are also imported so as to benchmark the values estimated.\n",
    "\n",
    "%matplotlib inline\n",
    "from Functions import A1, A2, A3, B1, B2, B3, C1, C2\n",
    "import numpy as np\n",
    "import pandas as pd\n",
    "import sobol_seq\n",
    "import matplotlib.pyplot as plt\n",
    "from pandas import ExcelWriter\n",
    "plt.style.use('ggplot')\n",
    "\n",
    "k = 6\n",
    "\n",
    "a2 = np.array([0,0.5,3,9,99,99])\n",
    "b3 = np.array([6.42,6.42,6.42,6.42,6.42,6.42])\n",
    "\n",
    "functions = [A1, A2, A3, B1, B2, B3, C1, C2]\n",
    "\n",
    "AE_df = pd.read_excel('AE_df.xlsx',index_col=0) #the analytical values\n",
    "\n",
    "def scrambler(q,s):\n",
    "    return q+s\n",
    "\n",
    "def Saltenis(a,b):\n",
    "    return 0.5*(a-b)**2"
   ]
  },
  {
   "cell_type": "markdown",
   "metadata": {},
   "source": [
    "The low-discrepancy sample matrix is then imported along with a scrambling rule so as to produce 50 independent repetions one can work with to produce a stable estimate."
   ]
  },
  {
   "cell_type": "code",
   "execution_count": 2,
   "metadata": {},
   "outputs": [],
   "source": [
    "p = 14\n",
    "run = 50\n",
    "\n",
    "n = 2\n",
    "\n",
    "df = pd.DataFrame(sobol_seq.i4_sobol_generate(6*k,-1+2**p))\n",
    "\n",
    "df_index = pd.read_csv('2019.10.08_index.csv', index_col=0)\n",
    "\n",
    "df_r = pd.concat([df.T.reindex(df_index.iloc[r]).reset_index(drop=True).T for r in range(run)])"
   ]
  },
  {
   "cell_type": "markdown",
   "metadata": {},
   "source": [
    "The mean absolute errors are finally estimated across functions"
   ]
  },
  {
   "cell_type": "code",
   "execution_count": 25,
   "metadata": {},
   "outputs": [
    {
     "name": "stderr",
     "output_type": "stream",
     "text": [
      "/opt/anaconda3/lib/python3.7/site-packages/ipykernel_launcher.py:5: DeprecationWarning: The default dtype for empty Series will be 'object' instead of 'float64' in a future version. Specify a dtype explicitly to silence this warning.\n",
      "  \"\"\"\n"
     ]
    }
   ],
   "source": [
    "AE = {f.__name__:[] for f in functions}\n",
    "AE_f = {f.__name__:[] for f in functions}\n",
    "MAE = {f.__name__:[] for f in functions}\n",
    "\n",
    "RMSE = {f.__name__:pd.Series() for f in functions}\n",
    "SE = {f.__name__:[] for f in functions}\n",
    "SE_f = {f.__name__:[] for f in functions}\n",
    "\n",
    "RE = {f.__name__:[] for f in functions}\n",
    "RE_f = {f.__name__:[] for f in functions}\n",
    "\n",
    "for f in functions:\n",
    "    elementary_effect = []\n",
    "    ea = pd.DataFrame(f(df_r.iloc[:,:k]))\n",
    "    ee_df =[]\n",
    "    for j in range(k):\n",
    "        rs = df_r.iloc[:,:2*k].copy()\n",
    "        rs[j] = rs[scrambler(j,k)] # generate the scrambled matrices\n",
    "        ee = pd.DataFrame(0.5*(f(df_r.iloc[:,:k])-f(rs.iloc[:,:k]))**2,columns=[j]) # compute the elementary effects\n",
    "        ee['r']= [r for r in range(run) for rdf in range(len(df))]\n",
    "        ee_df.append(ee[j])\n",
    "        \n",
    "        elementary_effect.append(ee.groupby('r')[j].expanding(1).mean()) # row-wise average along individual repetitions\n",
    "\n",
    "    ea['r']=ee['r']\n",
    "    elementary_effect_df = pd.concat(elementary_effect,axis=1)\n",
    "    Var_df = ea.groupby('r')[0].expanding(1).var(ddof=0) # compute the row-wise variance for each repetition\n",
    "    \n",
    "    AE[f.__name__] = np.abs(elementary_effect_df.div(Var_df,axis=0) - AE_df.loc[f.__name__]) # assess the absolute error for each factor\n",
    "    SE[f.__name__] = (elementary_effect_df.div(Var_df,axis=0) - AE_df.loc[f.__name__])**2 # assess the root square error\n",
    "    RE[f.__name__] = AE[f.__name__].div(AE_df.loc[f.__name__]) # assess the relative abs error\n",
    "    \n",
    "    AE[f.__name__].index = AE[f.__name__].index.droplevel(0)\n",
    "    SE[f.__name__].index = AE[f.__name__].index\n",
    "    RE[f.__name__].index = AE[f.__name__].index\n",
    "    \n",
    "    AE_f[f.__name__] = AE[f.__name__].groupby(AE[f.__name__].index).mean() #average over the 50 repetitions\n",
    "    SE_f[f.__name__] = np.sqrt(SE[f.__name__].groupby(SE[f.__name__].index).mean())\n",
    "    RE_f[f.__name__] = RE[f.__name__].groupby(RE[f.__name__].index).mean()\n",
    "    \n",
    "    MAE[f.__name__] = AE_f[f.__name__].mean(axis=1) # compute the mean absolute error by averaging over the factors\n",
    "    RMSE[f.__name__] = SE_f[f.__name__].mean(axis=1) # compute the mean root square error by averaging over the factors\n",
    "    \n",
    "    MAE[f.__name__].index = (MAE[f.__name__].index+1)*(k+1) # set the index according to the total cost\n",
    "    RMSE[f.__name__].index = MAE[f.__name__].index\n",
    "    RE_f[f.__name__].index = MAE[f.__name__].index\n",
    "    \n",
    "#export the data for comparisons and plotting\n",
    "\n",
    "writer = pd.ExcelWriter('Saltenis_asym.xlsx', engine='xlsxwriter')\n",
    "for mk in MAE.keys():\n",
    "    MAE[mk].to_excel(writer, sheet_name=mk)\n",
    "writer.save()\n",
    "\n",
    "writer = pd.ExcelWriter('Saltenis_asym_RMSE.xlsx', engine='xlsxwriter')\n",
    "for mk in RMSE.keys():\n",
    "    RMSE[mk].to_excel(writer, sheet_name=mk)\n",
    "writer.save()\n",
    "\n",
    "writer = pd.ExcelWriter('Saltenis_asym_RE.xlsx', engine='xlsxwriter')\n",
    "for mk in RE_f.keys():\n",
    "    RE_f[mk].loc[[(k+1)*(-1+2**s) for s in range(1,p)]].round(3).to_excel(writer, sheet_name=mk)\n",
    "writer.save()"
   ]
  },
  {
   "cell_type": "code",
   "execution_count": null,
   "metadata": {},
   "outputs": [],
   "source": []
  }
 ],
 "metadata": {
  "kernelspec": {
   "display_name": "Python 3",
   "language": "python",
   "name": "python3"
  },
  "language_info": {
   "codemirror_mode": {
    "name": "ipython",
    "version": 3
   },
   "file_extension": ".py",
   "mimetype": "text/x-python",
   "name": "python",
   "nbconvert_exporter": "python",
   "pygments_lexer": "ipython3",
   "version": "3.7.7"
  }
 },
 "nbformat": 4,
 "nbformat_minor": 4
}
