{
 "cells": [
  {
   "cell_type": "markdown",
   "metadata": {},
   "source": [
    "## The Lamboni estimator"
   ]
  },
  {
   "cell_type": "code",
   "execution_count": null,
   "metadata": {
    "collapsed": false
   },
   "outputs": [],
   "source": [
    "%matplotlib inline\n",
    "from Functions import A1, A2, B1, B2, B3, C1, C2\n",
    "import numpy as np\n",
    "import pandas as pd\n",
    "import sobol_seq\n",
    "import matplotlib.pyplot as plt\n",
    "from pandas import ExcelWriter\n",
    "plt.style.use('ggplot')"
   ]
  },
  {
   "cell_type": "markdown",
   "metadata": {},
   "source": [
    "### Defining the test functions"
   ]
  },
  {
   "cell_type": "code",
   "execution_count": null,
   "metadata": {
    "collapsed": false
   },
   "outputs": [],
   "source": [
    "k = 6\n",
    "\n",
    "a2 = np.array([0,0.5,3,9,99,99])\n",
    "b3 = np.array([6.42,6.42,6.42,6.42,6.42,6.42])\n",
    "\n",
    "functions = [A1, A2, B1, B2, B3, C1, C2]\n",
    "\n",
    "AE_df = pd.read_excel('AE_df.xlsx',index_col=0) #the analytical values"
   ]
  },
  {
   "cell_type": "markdown",
   "metadata": {},
   "source": [
    "### It is then time to define the sample and scrambled matrices"
   ]
  },
  {
   "cell_type": "code",
   "execution_count": null,
   "metadata": {
    "collapsed": false
   },
   "outputs": [],
   "source": [
    "p = 13\n",
    "run = 50\n",
    "\n",
    "n = [2,3,4,6]\n",
    "\n",
    "df = pd.DataFrame(sobol_seq.i4_sobol_generate(6*k, run*2**p))"
   ]
  },
  {
   "cell_type": "markdown",
   "metadata": {},
   "source": [
    "### And to assess the value of the MAE for the test functions"
   ]
  },
  {
   "cell_type": "code",
   "execution_count": null,
   "metadata": {
    "collapsed": false
   },
   "outputs": [],
   "source": [
    "for in1,n1 in enumerate(n):\n",
    "    run_samples = []\n",
    "\n",
    "    MAE_dic = {f.__name__:pd.DataFrame(columns=[r for r in range(run)]) for f in functions}\n",
    "    for r in range (run):\n",
    "        run_samples.append(df.iloc[int(r*(len(df)/run)):int((r+1)*(len(df)/run))].reset_index(drop=True))\n",
    "\n",
    "        sample_Matrices = [run_samples[-1].iloc[:,m*k:(m+1)*k].T.reset_index(drop=True).T for m in range(n1)]\n",
    "\n",
    "        mixed_Matrices = []\n",
    "        elementary_effects = []\n",
    "        f_elementary = []\n",
    "        for m in range(n1):\n",
    "            elementary_effects.append({f.__name__:pd.DataFrame(columns=[j for j in range(k)]) for f in functions})\n",
    "            for j in range(k):\n",
    "                for q in range(n1-1):\n",
    "                    mixed_Matrices.append(sample_Matrices[m].copy())\n",
    "                    mixed_Matrices[-1][j]=sample_Matrices[np.roll(np.arange(n1),(n1-1)*m)[q+1]][j]\n",
    "        \n",
    "        for f in functions:\n",
    "            for ie,e in enumerate(elementary_effects):\n",
    "                for j in range(k):\n",
    "                    el = []\n",
    "                    for q in range(n1-1):\n",
    "                        el.append(0.5*(f(sample_Matrices[ie])-f(mixed_Matrices[(n1-1)*ie*k+j*(n1-1)+q]))**2)\n",
    "                        \n",
    "                    e[f.__name__][j] = pd.concat(el)   \n",
    "            C_T = pd.concat([e[f.__name__] for e in elementary_effects]).sort_index().expanding(1).mean()\n",
    "                \n",
    "            Var = f(pd.concat(sample_Matrices).sort_index()).expanding(1).var(ddof=0).expanding(1).mean()\n",
    "            T = (C_T[~C_T.index.duplicated(keep='last')].T/Var[~Var.index.duplicated(keep='last')]).T\n",
    "            AE_r = np.abs(T - AE_df.loc[f.__name__])\n",
    "            MAE_r = AE_r.mean(axis=1)\n",
    "            MAE_r.index=(MAE_r.index+1)*len(sample_Matrices)*(1+k*(len(sample_Matrices)-1))\n",
    "            MAE_dic[f.__name__][r]=MAE_r\n",
    "    writer = pd.ExcelWriter(str(n1)+'Lamboni.xlsx', engine='xlsxwriter')\n",
    "\n",
    "    for mk in MAE_dic.keys():\n",
    "        MAE_dic[mk].mean(axis=1).to_excel(writer, sheet_name=mk)\n",
    "    \n",
    "    writer.save()"
   ]
  },
  {
   "cell_type": "code",
   "execution_count": null,
   "metadata": {},
   "outputs": [],
   "source": []
  }
 ],
 "metadata": {
  "kernelspec": {
   "display_name": "Python 3",
   "language": "python",
   "name": "python3"
  },
  "language_info": {
   "codemirror_mode": {
    "name": "ipython",
    "version": 3
   },
   "file_extension": ".py",
   "mimetype": "text/x-python",
   "name": "python",
   "nbconvert_exporter": "python",
   "pygments_lexer": "ipython3",
   "version": "3.7.1"
  }
 },
 "nbformat": 4,
 "nbformat_minor": 2
}
