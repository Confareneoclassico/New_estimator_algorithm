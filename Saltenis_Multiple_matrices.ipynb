{
 "cells": [
  {
   "cell_type": "markdown",
   "metadata": {},
   "source": [
    "## The Saltenis estimator"
   ]
  },
  {
   "cell_type": "code",
   "execution_count": 1,
   "metadata": {
    "collapsed": false,
    "jupyter": {
     "outputs_hidden": false
    }
   },
   "outputs": [],
   "source": [
    "%matplotlib inline\n",
    "from Functions import A1, A2, B1, B2, B3, C1, C2\n",
    "import numpy as np\n",
    "import pandas as pd\n",
    "import sobol_seq\n",
    "import matplotlib.pyplot as plt\n",
    "from pandas import ExcelWriter\n",
    "plt.style.use('ggplot')"
   ]
  },
  {
   "cell_type": "markdown",
   "metadata": {},
   "source": [
    "### Defining the test functions"
   ]
  },
  {
   "cell_type": "code",
   "execution_count": 2,
   "metadata": {
    "collapsed": false,
    "jupyter": {
     "outputs_hidden": false
    }
   },
   "outputs": [],
   "source": [
    "k = 6\n",
    "\n",
    "a2 = np.array([0,0.5,3,9,99,99])\n",
    "b3 = np.array([6.42,6.42,6.42,6.42,6.42,6.42])\n",
    "\n",
    "functions = [A1, A2, B1, B2, B3, C1, C2]\n",
    "\n",
    "AE_df = pd.read_excel('AE_df.xlsx',index_col=0) #the analytical values\n",
    "\n",
    "def scrambler(q,s):\n",
    "    return q+s"
   ]
  },
  {
   "cell_type": "markdown",
   "metadata": {},
   "source": [
    "### And the analytical values"
   ]
  },
  {
   "cell_type": "code",
   "execution_count": 3,
   "metadata": {
    "collapsed": false,
    "jupyter": {
     "outputs_hidden": false
    }
   },
   "outputs": [],
   "source": [
    "p = 14\n",
    "run = 50\n",
    "\n",
    "n = [2,3,4,6]\n",
    "\n",
    "df_r = pd.DataFrame(sobol_seq.i4_sobol_generate(6*k,-1+2**p))\n",
    "\n",
    "df_index = pd.read_csv('2019.10.08_index.csv', index_col=0)\n",
    "\n",
    "df = pd.concat([df_r.T.reindex(df_index.iloc[r]).reset_index(drop=True).T for r in range(run)])"
   ]
  },
  {
   "cell_type": "markdown",
   "metadata": {},
   "source": [
    "### And to assess the value of the MAE for the test functions"
   ]
  },
  {
   "cell_type": "code",
   "execution_count": 4,
   "metadata": {},
   "outputs": [
    {
     "name": "stderr",
     "output_type": "stream",
     "text": [
      "/opt/anaconda3/lib/python3.7/site-packages/ipykernel_launcher.py:5: DeprecationWarning: The default dtype for empty Series will be 'object' instead of 'float64' in a future version. Specify a dtype explicitly to silence this warning.\n",
      "  \"\"\"\n"
     ]
    },
    {
     "ename": "ValueError",
     "evalue": "No objects to concatenate",
     "output_type": "error",
     "traceback": [
      "\u001b[0;31m---------------------------------------------------------------------------\u001b[0m",
      "\u001b[0;31mValueError\u001b[0m                                Traceback (most recent call last)",
      "\u001b[0;32m<ipython-input-4-c79192bd595b>\u001b[0m in \u001b[0;36m<module>\u001b[0;34m\u001b[0m\n\u001b[1;32m     44\u001b[0m \u001b[0;34m\u001b[0m\u001b[0m\n\u001b[1;32m     45\u001b[0m     \u001b[0;32mfor\u001b[0m \u001b[0mf\u001b[0m \u001b[0;32min\u001b[0m \u001b[0mfunctions\u001b[0m\u001b[0;34m:\u001b[0m\u001b[0;34m\u001b[0m\u001b[0;34m\u001b[0m\u001b[0m\n\u001b[0;32m---> 46\u001b[0;31m         RMSE_dic[f.__name__]= np.sqrt(pd.concat(SE_dic[f.__name__],axis=1).groupby(pd.concat(SE_dic[f.__name__],axis=1).columns,\n\u001b[0m\u001b[1;32m     47\u001b[0m                                                        1).mean()).mean(axis=1)\n\u001b[1;32m     48\u001b[0m \u001b[0;34m\u001b[0m\u001b[0m\n",
      "\u001b[0;32m/opt/anaconda3/lib/python3.7/site-packages/pandas/core/reshape/concat.py\u001b[0m in \u001b[0;36mconcat\u001b[0;34m(objs, axis, join, ignore_index, keys, levels, names, verify_integrity, sort, copy)\u001b[0m\n\u001b[1;32m    279\u001b[0m         \u001b[0mverify_integrity\u001b[0m\u001b[0;34m=\u001b[0m\u001b[0mverify_integrity\u001b[0m\u001b[0;34m,\u001b[0m\u001b[0;34m\u001b[0m\u001b[0;34m\u001b[0m\u001b[0m\n\u001b[1;32m    280\u001b[0m         \u001b[0mcopy\u001b[0m\u001b[0;34m=\u001b[0m\u001b[0mcopy\u001b[0m\u001b[0;34m,\u001b[0m\u001b[0;34m\u001b[0m\u001b[0;34m\u001b[0m\u001b[0m\n\u001b[0;32m--> 281\u001b[0;31m         \u001b[0msort\u001b[0m\u001b[0;34m=\u001b[0m\u001b[0msort\u001b[0m\u001b[0;34m,\u001b[0m\u001b[0;34m\u001b[0m\u001b[0;34m\u001b[0m\u001b[0m\n\u001b[0m\u001b[1;32m    282\u001b[0m     )\n\u001b[1;32m    283\u001b[0m \u001b[0;34m\u001b[0m\u001b[0m\n",
      "\u001b[0;32m/opt/anaconda3/lib/python3.7/site-packages/pandas/core/reshape/concat.py\u001b[0m in \u001b[0;36m__init__\u001b[0;34m(self, objs, axis, join, keys, levels, names, ignore_index, verify_integrity, copy, sort)\u001b[0m\n\u001b[1;32m    327\u001b[0m \u001b[0;34m\u001b[0m\u001b[0m\n\u001b[1;32m    328\u001b[0m         \u001b[0;32mif\u001b[0m \u001b[0mlen\u001b[0m\u001b[0;34m(\u001b[0m\u001b[0mobjs\u001b[0m\u001b[0;34m)\u001b[0m \u001b[0;34m==\u001b[0m \u001b[0;36m0\u001b[0m\u001b[0;34m:\u001b[0m\u001b[0;34m\u001b[0m\u001b[0;34m\u001b[0m\u001b[0m\n\u001b[0;32m--> 329\u001b[0;31m             \u001b[0;32mraise\u001b[0m \u001b[0mValueError\u001b[0m\u001b[0;34m(\u001b[0m\u001b[0;34m\"No objects to concatenate\"\u001b[0m\u001b[0;34m)\u001b[0m\u001b[0;34m\u001b[0m\u001b[0;34m\u001b[0m\u001b[0m\n\u001b[0m\u001b[1;32m    330\u001b[0m \u001b[0;34m\u001b[0m\u001b[0m\n\u001b[1;32m    331\u001b[0m         \u001b[0;32mif\u001b[0m \u001b[0mkeys\u001b[0m \u001b[0;32mis\u001b[0m \u001b[0;32mNone\u001b[0m\u001b[0;34m:\u001b[0m\u001b[0;34m\u001b[0m\u001b[0;34m\u001b[0m\u001b[0m\n",
      "\u001b[0;31mValueError\u001b[0m: No objects to concatenate"
     ]
    }
   ],
   "source": [
    "for in1,n1 in enumerate(n):\n",
    "    run_samples = []\n",
    "\n",
    "    MAE_dic = {f.__name__:pd.DataFrame(columns=[r for r in range(run)]) for f in functions}\n",
    "    RMSE_dic = {f.__name__:pd.Series() for f in functions}\n",
    "    SE_dic = {f.__name__:[] for f in functions}\n",
    "    for r in range (run):\n",
    "        run_samples.append(df.iloc[int(r*(len(df)/run)):int((r+1)*(len(df)/run))].reset_index(drop=True))\n",
    "\n",
    "        sample_Matrices = [run_samples[-1].iloc[:,m*k:(m+1)*k].T.reset_index(drop=True).T for m in range(n1)]\n",
    "\n",
    "        mixed_Matrices = []\n",
    "        elementary_effects_list =[]\n",
    "        f_elementary = []\n",
    "        for im,m in enumerate(range(n1)):\n",
    "            elementary_effects_dic = {j:[] for j in range(k)}\n",
    "            f_elementary.append({f.__name__:pd.DataFrame(columns=[j for j in range(k)]) for f in functions})\n",
    "            for j in range(k):\n",
    "                elementary_effects = [sample_Matrices[m]]\n",
    "                for q in range(n1-1):\n",
    "                    mixed_Matrices.append(sample_Matrices[m].copy())\n",
    "                    mixed_Matrices[-1][j]=sample_Matrices[np.roll(np.arange(n1),(n1-1)*m)[q+1]][j]\n",
    "                    \n",
    "                    elementary_effects.append(mixed_Matrices[-1])\n",
    "                elementary_effects_dic[j]=elementary_effects\n",
    "                \n",
    "            elementary_effects_list.append(elementary_effects_dic)\n",
    "            \n",
    "        for f in functions:\n",
    "            for ie,e in enumerate(elementary_effects_list):\n",
    "                for j in range(k):\n",
    "                    el = []\n",
    "                    for q in range(len(e[j])):\n",
    "                        for qi in range(q+1,len(e[j])):\n",
    "                            el.append(0.5*(f(e[j][q])-f(e[j][qi]))**2)\n",
    "                    f_elementary[ie][f.__name__][j] = pd.concat(el)\n",
    "                C_T = pd.concat([fe[f.__name__] for fe in f_elementary]).sort_index().expanding(1).mean()\n",
    "            Var = f(pd.concat(sample_Matrices).sort_index()).expanding(1).var(ddof=0).expanding(1).mean()\n",
    "            T = (C_T[~C_T.index.duplicated(keep='last')].T/Var[~Var.index.duplicated(keep='last')]).T\n",
    "            AE_r = np.abs(T - AE_df.loc[f.__name__])\n",
    "            MAE_r = AE_r.mean(axis=1)\n",
    "            MAE_r.index=(MAE_r.index+1)*len(sample_Matrices)*(1+k*(len(sample_Matrices)-1))\n",
    "            MAE_dic[f.__name__][r]=MAE_r\n",
    "            \n",
    "    for f in functions:\n",
    "        RMSE_dic[f.__name__]= np.sqrt(pd.concat(SE_dic[f.__name__],axis=1).groupby(pd.concat(SE_dic[f.__name__],axis=1).columns,\n",
    "                                                       1).mean()).mean(axis=1)\n",
    "            \n",
    "    writer = pd.ExcelWriter(str(n1)+'Multiple_matrices.xlsx', engine='xlsxwriter')\n",
    "\n",
    "    for mk in MAE_dic.keys():\n",
    "        MAE_dic[mk].mean(axis=1).to_excel(writer, sheet_name=mk)\n",
    "    \n",
    "    writer.save()"
   ]
  },
  {
   "cell_type": "code",
   "execution_count": null,
   "metadata": {},
   "outputs": [],
   "source": [
    "ls = ['-',':','-.','--',(0, (3, 5, 1, 5, 1, 5))]\n",
    "mk = ['s','o','v','+','*']\n",
    "\n",
    "for f in functions:\n",
    "    Saltenis = pd.read_excel('Saltenis_asym.xlsx',sheet_name=f.__name__,index_col=0).loc[[(k+1)*(-1+2**s) for s in \n",
    "                                                                                        range(2,p+1)]].loc[:(k+1)*2**(p+1)]\n",
    "    Saltenis_sym = pd.read_excel('2Multiple_matrices.xlsx',sheet_name=f.__name__,index_col=0).loc[[2*(k+1)*(-1+2**s) for s in range(2,\n",
    "                                                                                        p+1)]].loc[:(k+1)*2**(p+1)]\n",
    "    Matrices3 = pd.read_excel('3Multiple_matrices.xlsx',sheet_name=f.__name__,index_col=0).loc[[(3*(1+k*(3-1)))*(-1+2**s) for s in range(2,\n",
    "                                                                                        p+1)]].loc[:(k+1)*2**(p+1)]\n",
    "    Matrices4 = pd.read_excel('4Multiple_matrices.xlsx',sheet_name=f.__name__,index_col=0).loc[[(4*(1+k*(4-1)))*(-1+2**s) for s in range(2,\n",
    "                                                                                        p+1)]].loc[:(k+1)*2**(p+1)]\n",
    "    Matrices6 = pd.read_excel('6Multiple_matrices.xlsx',sheet_name=f.__name__,index_col=0).loc[[(6*(1+k*(6-1)))*(-1+2**s) for s in range(2,\n",
    "                                                                                        p+1)]].loc[:(k+1)*2**(p+1)]\n",
    "    \n",
    "    dataSets = [Saltenis,Saltenis_sym,Matrices3,Matrices4,Matrices6]\n",
    "\n",
    "    dSnames = ['Saltenis','Saltenis_sym','Saltenis_3_matrices','Saltenis_4_matrices','Saltenis_6_matrices']\n",
    "    \n",
    "    dS_dic = dict(zip(dSnames,dataSets))\n",
    "    \n",
    "    co = -1\n",
    "    for dk, dv in dS_dic.items():\n",
    "        co +=1\n",
    "        x_vals = dv.index\n",
    "        y1 = dv.values\n",
    "        plt.loglog(x_vals, y1, c='k', marker = mk[co],linestyle=ls[co],label = dk)\n",
    "    plt.xlabel('Cost')\n",
    "    plt.ylabel('MAE')\n",
    "    plt.title(f.__name__)\n",
    "    plt.legend()\n",
    "    plt.show()"
   ]
  },
  {
   "cell_type": "code",
   "execution_count": null,
   "metadata": {},
   "outputs": [],
   "source": []
  }
 ],
 "metadata": {
  "kernelspec": {
   "display_name": "Python 3",
   "language": "python",
   "name": "python3"
  },
  "language_info": {
   "codemirror_mode": {
    "name": "ipython",
    "version": 3
   },
   "file_extension": ".py",
   "mimetype": "text/x-python",
   "name": "python",
   "nbconvert_exporter": "python",
   "pygments_lexer": "ipython3",
   "version": "3.7.7"
  }
 },
 "nbformat": 4,
 "nbformat_minor": 4
}
